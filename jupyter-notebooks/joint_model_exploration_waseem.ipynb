{
 "cells": [
  {
   "cell_type": "code",
   "execution_count": 1,
   "metadata": {
    "pycharm": {
     "name": "#%%\n"
    }
   },
   "outputs": [],
   "source": [
    "# Import Dataset, joint model and pytorch train helpers\n",
    "import transformers\n",
    "%load_ext autoreload\n",
    "%autoreload 2\n",
    "import torch\n",
    "import torch.nn as nn\n",
    "import sys\n",
    "import torch.optim as optim\n",
    "import torch\n",
    "from TweetClassifier.distilbert_sequence_classifier import TweetBERT\n",
    "from dataset_parser.waseem_parser import WaseemDataset\n",
    "from joint_model import JointModel\n",
    "from util.WeightedRandomSampler import WeightedRandomSampler"
   ]
  },
  {
   "cell_type": "code",
   "execution_count": 2,
   "metadata": {
    "pycharm": {
     "name": "#%%\n"
    }
   },
   "outputs": [
    {
     "name": "stdout",
     "output_type": "stream",
     "text": [
      "Loading Waseem train set from fixed split.\n",
      "Successfully loaded waseem dataset.\n",
      "Loading Waseem val set from fixed split.\n",
      "Successfully loaded waseem dataset.\n",
      "Loading Waseem test set from fixed split.\n",
      "Successfully loaded waseem dataset.\n"
     ]
    }
   ],
   "source": [
    "# Open data set and split in rain and dev and instantiate data loaders\n",
    "# TODO: Fix split, currently the data split is different from the one used to pretrain BERT\n",
    "#       -> data leakage from train to dev\n",
    "trainset, devset, testset = WaseemDataset(fixed_set=\"train\"), WaseemDataset(fixed_set=\"val\"), WaseemDataset(fixed_set = \"test\")\n"
   ]
  },
  {
   "cell_type": "code",
   "execution_count": 3,
   "metadata": {
    "pycharm": {
     "name": "#%%\n"
    }
   },
   "outputs": [],
   "source": [
    "BATCH_SIZE = 128\n",
    "sampler_trainset = WeightedRandomSampler(trainset, 1000)\n",
    "sampler_devset = WeightedRandomSampler(devset, 1000)\n",
    "\n",
    "trainloader = torch.utils.data.DataLoader(trainset, batch_size=BATCH_SIZE,\n",
    "                                        num_workers=6, sampler = sampler_trainset)\n",
    "devloader = torch.utils.data.DataLoader(devset, batch_size=1,\n",
    "                                        num_workers=6)\n",
    "testloader = torch.utils.data.DataLoader(testset, batch_size=1,\n",
    "                                        num_workers=6)"
   ]
  },
  {
   "cell_type": "code",
   "execution_count": 4,
   "metadata": {
    "pycharm": {
     "name": "#%%\n"
    }
   },
   "outputs": [
    {
     "name": "stdout",
     "output_type": "stream",
     "text": [
      "Successfully initialized TweetNetwork submodel\n",
      "Successfully initialized TweetClassifier submodel\n",
      "neither done\n",
      "racism done\n",
      "sexism done\n",
      "Successfully initialized TweetHistory submodel\n",
      "Successfully initialized last final classification layer\n"
     ]
    },
    {
     "data": {
      "text/plain": "JointModel(\n  (SAGE): GraphSAGE(\n    (model): SAGE(\n      (convs): ModuleList(\n        (0): SAGEConv(2, 32)\n        (1): SAGEConv(32, 32)\n        (2): SAGEConv(32, 32)\n      )\n    )\n  )\n  (BERT): TweetBERT(\n    (model): DistilBertForSequenceClassification(\n      (distilbert): DistilBertModel(\n        (embeddings): Embeddings(\n          (word_embeddings): Embedding(30522, 768, padding_idx=0)\n          (position_embeddings): Embedding(512, 768)\n          (LayerNorm): LayerNorm((768,), eps=1e-12, elementwise_affine=True)\n          (dropout): Dropout(p=0.1, inplace=False)\n        )\n        (transformer): Transformer(\n          (layer): ModuleList(\n            (0): TransformerBlock(\n              (attention): MultiHeadSelfAttention(\n                (dropout): Dropout(p=0.1, inplace=False)\n                (q_lin): Linear(in_features=768, out_features=768, bias=True)\n                (k_lin): Linear(in_features=768, out_features=768, bias=True)\n                (v_lin): Linear(in_features=768, out_features=768, bias=True)\n                (out_lin): Linear(in_features=768, out_features=768, bias=True)\n              )\n              (sa_layer_norm): LayerNorm((768,), eps=1e-12, elementwise_affine=True)\n              (ffn): FFN(\n                (dropout): Dropout(p=0.1, inplace=False)\n                (lin1): Linear(in_features=768, out_features=3072, bias=True)\n                (lin2): Linear(in_features=3072, out_features=768, bias=True)\n              )\n              (output_layer_norm): LayerNorm((768,), eps=1e-12, elementwise_affine=True)\n            )\n            (1): TransformerBlock(\n              (attention): MultiHeadSelfAttention(\n                (dropout): Dropout(p=0.1, inplace=False)\n                (q_lin): Linear(in_features=768, out_features=768, bias=True)\n                (k_lin): Linear(in_features=768, out_features=768, bias=True)\n                (v_lin): Linear(in_features=768, out_features=768, bias=True)\n                (out_lin): Linear(in_features=768, out_features=768, bias=True)\n              )\n              (sa_layer_norm): LayerNorm((768,), eps=1e-12, elementwise_affine=True)\n              (ffn): FFN(\n                (dropout): Dropout(p=0.1, inplace=False)\n                (lin1): Linear(in_features=768, out_features=3072, bias=True)\n                (lin2): Linear(in_features=3072, out_features=768, bias=True)\n              )\n              (output_layer_norm): LayerNorm((768,), eps=1e-12, elementwise_affine=True)\n            )\n            (2): TransformerBlock(\n              (attention): MultiHeadSelfAttention(\n                (dropout): Dropout(p=0.1, inplace=False)\n                (q_lin): Linear(in_features=768, out_features=768, bias=True)\n                (k_lin): Linear(in_features=768, out_features=768, bias=True)\n                (v_lin): Linear(in_features=768, out_features=768, bias=True)\n                (out_lin): Linear(in_features=768, out_features=768, bias=True)\n              )\n              (sa_layer_norm): LayerNorm((768,), eps=1e-12, elementwise_affine=True)\n              (ffn): FFN(\n                (dropout): Dropout(p=0.1, inplace=False)\n                (lin1): Linear(in_features=768, out_features=3072, bias=True)\n                (lin2): Linear(in_features=3072, out_features=768, bias=True)\n              )\n              (output_layer_norm): LayerNorm((768,), eps=1e-12, elementwise_affine=True)\n            )\n            (3): TransformerBlock(\n              (attention): MultiHeadSelfAttention(\n                (dropout): Dropout(p=0.1, inplace=False)\n                (q_lin): Linear(in_features=768, out_features=768, bias=True)\n                (k_lin): Linear(in_features=768, out_features=768, bias=True)\n                (v_lin): Linear(in_features=768, out_features=768, bias=True)\n                (out_lin): Linear(in_features=768, out_features=768, bias=True)\n              )\n              (sa_layer_norm): LayerNorm((768,), eps=1e-12, elementwise_affine=True)\n              (ffn): FFN(\n                (dropout): Dropout(p=0.1, inplace=False)\n                (lin1): Linear(in_features=768, out_features=3072, bias=True)\n                (lin2): Linear(in_features=3072, out_features=768, bias=True)\n              )\n              (output_layer_norm): LayerNorm((768,), eps=1e-12, elementwise_affine=True)\n            )\n            (4): TransformerBlock(\n              (attention): MultiHeadSelfAttention(\n                (dropout): Dropout(p=0.1, inplace=False)\n                (q_lin): Linear(in_features=768, out_features=768, bias=True)\n                (k_lin): Linear(in_features=768, out_features=768, bias=True)\n                (v_lin): Linear(in_features=768, out_features=768, bias=True)\n                (out_lin): Linear(in_features=768, out_features=768, bias=True)\n              )\n              (sa_layer_norm): LayerNorm((768,), eps=1e-12, elementwise_affine=True)\n              (ffn): FFN(\n                (dropout): Dropout(p=0.1, inplace=False)\n                (lin1): Linear(in_features=768, out_features=3072, bias=True)\n                (lin2): Linear(in_features=3072, out_features=768, bias=True)\n              )\n              (output_layer_norm): LayerNorm((768,), eps=1e-12, elementwise_affine=True)\n            )\n            (5): TransformerBlock(\n              (attention): MultiHeadSelfAttention(\n                (dropout): Dropout(p=0.1, inplace=False)\n                (q_lin): Linear(in_features=768, out_features=768, bias=True)\n                (k_lin): Linear(in_features=768, out_features=768, bias=True)\n                (v_lin): Linear(in_features=768, out_features=768, bias=True)\n                (out_lin): Linear(in_features=768, out_features=768, bias=True)\n              )\n              (sa_layer_norm): LayerNorm((768,), eps=1e-12, elementwise_affine=True)\n              (ffn): FFN(\n                (dropout): Dropout(p=0.1, inplace=False)\n                (lin1): Linear(in_features=768, out_features=3072, bias=True)\n                (lin2): Linear(in_features=3072, out_features=768, bias=True)\n              )\n              (output_layer_norm): LayerNorm((768,), eps=1e-12, elementwise_affine=True)\n            )\n          )\n        )\n      )\n      (pre_classifier): Linear(in_features=768, out_features=768, bias=True)\n      (classifier): Linear(in_features=768, out_features=3, bias=True)\n      (dropout): Dropout(p=0.2, inplace=False)\n    )\n  )\n  (BOW): TF_IDF_TweetHistory()\n  (simple_linear): Linear(in_features=535, out_features=3, bias=True)\n)"
     },
     "execution_count": 4,
     "metadata": {},
     "output_type": "execute_result"
    }
   ],
   "source": [
    "# Instantiate joint model\n",
    "# TODO: add edge_index lookup in SAGE submodel\n",
    "device = torch.device(\"cuda\" if torch.cuda.is_available() else \"cpu\")\n",
    "joint_model = JointModel(random_subset_size=None, dataset=\"waseem\")\n",
    "joint_model.to(device)\n",
    "# load weights from trained model"
   ]
  },
  {
   "cell_type": "code",
   "execution_count": 5,
   "metadata": {
    "pycharm": {
     "name": "#%%\n"
    }
   },
   "outputs": [
    {
     "name": "stdout",
     "output_type": "stream",
     "text": [
      "check-else\n"
     ]
    }
   ],
   "source": [
    "if device == \"cuda\":\n",
    "    print(\"check-if\")\n",
    "    #pass\n",
    "    joint_model.load_state_dict(torch.load('../../models/joint_model_waseem_nulled_network_10epochs.model'))\n",
    "else:\n",
    "    print(\"check-else\")\n",
    "    joint_model.load_state_dict(torch.load('../../models/joint_model_waseem_nulled_network_10epochs.model', map_location=torch.device('cpu')))"
   ]
  },
  {
   "cell_type": "code",
   "execution_count": 16,
   "metadata": {
    "pycharm": {
     "name": "#%%\n"
    }
   },
   "outputs": [],
   "source": [
    "criterion = torch.nn.CrossEntropyLoss()\n",
    "optimizer = optim.Adam(joint_model.parameters(), lr=0.001)"
   ]
  },
  {
   "cell_type": "code",
   "execution_count": 13,
   "metadata": {
    "pycharm": {
     "name": "#%%\n"
    }
   },
   "outputs": [
    {
     "name": "stdout",
     "output_type": "stream",
     "text": [
      "Batch size: 128\n",
      "Epoch 0: 0 tweets processed\n",
      "Epoch 0: 512 tweets processed\n",
      "Epoch 0: 1024 tweets processed\n",
      "Epoch 0: 1536 tweets processed\n",
      "Epoch 0: 2048 tweets processed\n",
      "Epoch 0: 2560 tweets processed\n",
      "Epoch 1: 0 tweets processed\n",
      "Epoch 1: 512 tweets processed\n",
      "Epoch 1: 1024 tweets processed\n",
      "Epoch 1: 1536 tweets processed\n",
      "Epoch 1: 2048 tweets processed\n",
      "Epoch 1: 2560 tweets processed\n",
      "Epoch 2: 0 tweets processed\n",
      "Epoch 2: 512 tweets processed\n",
      "Epoch 2: 1024 tweets processed\n",
      "Epoch 2: 1536 tweets processed\n",
      "Epoch 2: 2048 tweets processed\n",
      "Epoch 2: 2560 tweets processed\n",
      "Epoch 3: 0 tweets processed\n",
      "Epoch 3: 512 tweets processed\n",
      "Epoch 3: 1024 tweets processed\n",
      "Epoch 3: 1536 tweets processed\n",
      "Epoch 3: 2048 tweets processed\n",
      "Epoch 3: 2560 tweets processed\n",
      "Epoch 4: 0 tweets processed\n",
      "Epoch 4: 512 tweets processed\n",
      "Epoch 4: 1024 tweets processed\n",
      "Epoch 4: 1536 tweets processed\n",
      "Epoch 4: 2048 tweets processed\n",
      "Epoch 4: 2560 tweets processed\n",
      "Epoch 5: 0 tweets processed\n",
      "Epoch 5: 512 tweets processed\n",
      "Epoch 5: 1024 tweets processed\n",
      "Epoch 5: 1536 tweets processed\n",
      "Epoch 5: 2048 tweets processed\n",
      "Epoch 5: 2560 tweets processed\n",
      "Epoch 6: 0 tweets processed\n",
      "Epoch 6: 512 tweets processed\n",
      "Epoch 6: 1024 tweets processed\n",
      "Epoch 6: 1536 tweets processed\n",
      "Epoch 6: 2048 tweets processed\n",
      "Epoch 6: 2560 tweets processed\n",
      "Epoch 7: 0 tweets processed\n",
      "Epoch 7: 512 tweets processed\n",
      "Epoch 7: 1024 tweets processed\n",
      "Epoch 7: 1536 tweets processed\n",
      "Epoch 7: 2048 tweets processed\n",
      "Epoch 7: 2560 tweets processed\n",
      "Epoch 8: 0 tweets processed\n",
      "Epoch 8: 512 tweets processed\n",
      "Epoch 8: 1024 tweets processed\n",
      "Epoch 8: 1536 tweets processed\n",
      "Epoch 8: 2048 tweets processed\n",
      "Epoch 8: 2560 tweets processed\n",
      "Epoch 9: 0 tweets processed\n",
      "Epoch 9: 512 tweets processed\n",
      "Epoch 9: 1024 tweets processed\n",
      "Epoch 9: 1536 tweets processed\n",
      "Epoch 9: 2048 tweets processed\n",
      "Epoch 9: 2560 tweets processed\n"
     ]
    }
   ],
   "source": [
    "# train joint model\n",
    "print (\"Batch size: {}\".format(BATCH_SIZE))\n",
    "for epoch in range(10):\n",
    "    #break\n",
    "    running_loss = 0.0\n",
    "    for i, data in enumerate(trainloader):\n",
    "        input_ids, attention_mask, user_id, tweet_label = data['input_ids'], data['attention_mask'], data['userid'], data['label'] #TODO fix this mess\n",
    "        input_ids, attention_mask, tweet_label = input_ids.to(device),  attention_mask.to(device), tweet_label.to(device)\n",
    "        predictions = joint_model(input_ids,attention_mask, user_id)\n",
    "        loss = criterion(predictions, tweet_label)\n",
    "        loss.backward()\n",
    "        running_loss += loss\n",
    "        #if i % 64 == 0:\n",
    "        optimizer.step()\n",
    "        optimizer.zero_grad()\n",
    "        if i % 4 == 0:\n",
    "            print (\"Epoch {}: {} tweets processed\".format(epoch, i*BATCH_SIZE))\n",
    "torch.save(joint_model.state_dict(), \"../../models/joint_model_waseem_nulled_network_10epochs.model\")"
   ]
  },
  {
   "cell_type": "code",
   "execution_count": 24,
   "metadata": {
    "pycharm": {
     "name": "#%%\n"
    }
   },
   "outputs": [
    {
     "name": "stdout",
     "output_type": "stream",
     "text": [
      "0\n"
     ]
    },
    {
     "name": "stderr",
     "output_type": "stream",
     "text": [
      "Implicit dimension choice for softmax has been deprecated. Change the call to include dim=X as an argument.\n"
     ]
    }
   ],
   "source": [
    "y_pred, y_true = [],[]\n",
    "output_for_print = []\n",
    "for i, data in enumerate(devloader):\n",
    "    if i == 1:\n",
    "        break\n",
    "    if i%500 == 0:\n",
    "        print(i)\n",
    "    joint_model.eval()\n",
    "    input_ids, attention_mask, user_id, tweet_label = data['input_ids'], data['attention_mask'], data['userid'], data['label'] #TODO fix this mess\n",
    "    input_ids, attention_mask, tweet_label = input_ids.to(device),  attention_mask.to(device), tweet_label.to(device)\n",
    "    predictions = joint_model(input_ids,attention_mask, user_id)\n",
    "    predictions = torch.nn.functional.softmax(predictions)\n",
    "    max_pred = torch.argmax(predictions)\n",
    "    y_pred.append(max_pred.item())\n",
    "    y_true.append(tweet_label.item())\n",
    "    output_for_print.append([i,user_id.item(),tweet_label.item(),max_pred.item()])"
   ]
  },
  {
   "cell_type": "code",
   "execution_count": 25,
   "metadata": {},
   "outputs": [
    {
     "data": {
      "text/plain": [
       "tensor([[  101,  2061,  2852, 19895,  2080,  2074,  2056,  2002,  2001,  7622,\n",
       "          1996,  3057, 12984,  2431,  1037,  7975,  1012,  1012,  2027, 12984,\n",
       "          1037,  2878,  2028,  1001, 12395,  2099,   102,     0,     0,     0,\n",
       "             0,     0,     0,     0,     0,     0,     0,     0,     0,     0,\n",
       "             0,     0,     0,     0,     0,     0,     0,     0,     0,     0,\n",
       "             0,     0,     0,     0,     0,     0,     0,     0,     0,     0,\n",
       "             0,     0,     0,     0,     0,     0,     0,     0,     0,     0,\n",
       "             0,     0,     0,     0,     0,     0,     0,     0,     0,     0,\n",
       "             0,     0,     0,     0,     0,     0,     0,     0]])"
      ]
     },
     "execution_count": 25,
     "metadata": {},
     "output_type": "execute_result"
    }
   ],
   "source": [
    "input_ids"
   ]
  },
  {
   "cell_type": "code",
   "execution_count": 14,
   "metadata": {
    "pycharm": {
     "name": "#%%\n"
    }
   },
   "outputs": [
    {
     "name": "stdout",
     "output_type": "stream",
     "text": [
      "[[ 518    2  179]\n",
      " [   1  255  129]\n",
      " [ 128   55 2157]]\n",
      "              precision    recall  f1-score   support\n",
      "\n",
      "           0       0.80      0.74      0.77       699\n",
      "           1       0.82      0.66      0.73       385\n",
      "           2       0.88      0.92      0.90      2340\n",
      "\n",
      "    accuracy                           0.86      3424\n",
      "   macro avg       0.83      0.78      0.80      3424\n",
      "weighted avg       0.85      0.86      0.85      3424\n",
      "\n"
     ]
    }
   ],
   "source": [
    "from sklearn.metrics import confusion_matrix, classification_report\n",
    "print (confusion_matrix(y_true=y_true, y_pred=y_pred))\n",
    "print (classification_report(y_true=y_true, y_pred=y_pred))"
   ]
  },
  {
   "cell_type": "code",
   "execution_count": null,
   "metadata": {},
   "outputs": [],
   "source": [
    "test_y_pred, test_y_true = [],[]\n",
    "output_for_print = []\n",
    "for i, data in enumerate(testloader):\n",
    "    joint_model.eval()\n",
    "    input_ids, attention_mask, user_id, tweet_label = data['input_ids'], data['attention_mask'], data['userid'], data['label'] #TODO fix this mess\n",
    "    input_ids, attention_mask, tweet_label = input_ids.to(device),  attention_mask.to(device), tweet_label.to(device)\n",
    "    test_predictions = joint_model(input_ids,attention_mask, user_id)\n",
    "    test_predictions = torch.nn.functional.softmax(test_predictions)\n",
    "    test_max_pred = torch.argmax(test_predictions)\n",
    "    test_y_pred.append(test_max_pred.item())\n",
    "    test_y_true.append(tweet_label.item())\n",
    "    output_for_print.append([i,user_id.item(),tweet_label.item(),test_max_pred.item()])"
   ]
  },
  {
   "cell_type": "code",
   "execution_count": null,
   "metadata": {},
   "outputs": [],
   "source": [
    "print (confusion_matrix(y_true=test_y_true, y_pred=test_y_pred))\n",
    "print (classification_report(y_true=test_y_true, y_pred=test_y_pred))"
   ]
  },
  {
   "cell_type": "code",
   "execution_count": 14,
   "metadata": {
    "pycharm": {
     "name": "#%%\n"
    }
   },
   "outputs": [
    {
     "data": {
      "text/plain": [
       "2340"
      ]
     },
     "execution_count": 14,
     "metadata": {},
     "output_type": "execute_result"
    }
   ],
   "source": [
    "y_true.count(2)"
   ]
  },
  {
   "cell_type": "markdown",
   "metadata": {},
   "source": [
    "# SHAP computations with class ShapExplainer"
   ]
  },
  {
   "cell_type": "code",
   "execution_count": 10,
   "metadata": {},
   "outputs": [],
   "source": [
    "from SHAP.shap import ShapExplainer"
   ]
  },
  {
   "cell_type": "code",
   "execution_count": 11,
   "metadata": {},
   "outputs": [],
   "source": [
    "# Shapley configuration\n",
    "tweet_as_one = True \n",
    "vocab_as_one=False\n",
    "network_as_one = True\n",
    "untokenize = True\n",
    "dataset = 'waseem'\n",
    "\n"
   ]
  },
  {
   "cell_type": "code",
   "execution_count": 26,
   "metadata": {},
   "outputs": [],
   "source": [
    "for i, data in enumerate(devloader):\n",
    "    #if i < 1:\n",
    "    #    continue\n",
    "    input_ids, attention_mask, user_id, tweet_label = data['input_ids'], data['attention_mask'], data['userid'], data['label']\n",
    "    input_ids, attention_mask, tweet_label = input_ids.to(device),  attention_mask.to(device), tweet_label.to(device)\n",
    "    if i == 1:\n",
    "        break"
   ]
  },
  {
   "cell_type": "code",
   "execution_count": 27,
   "metadata": {},
   "outputs": [
    {
     "data": {
      "text/plain": [
       "tensor([[  101,  1030, 22712, 14526,  2683,  3956,  2003,  2069,  2667,  2000,\n",
       "          6985,  2993,  2114, 25303,  7486,  2667,  2000, 13387,  2009,  2041,\n",
       "          1012,  4895,  4494,  2011,  5152,  3741,  2812,  2498,  1012,   102,\n",
       "             0,     0,     0,     0,     0,     0,     0,     0,     0,     0,\n",
       "             0,     0,     0,     0,     0,     0,     0,     0,     0,     0,\n",
       "             0,     0,     0,     0,     0,     0,     0,     0,     0,     0,\n",
       "             0,     0,     0,     0,     0,     0,     0,     0,     0,     0,\n",
       "             0,     0,     0,     0,     0,     0,     0,     0,     0,     0,\n",
       "             0,     0,     0,     0,     0,     0,     0,     0]])"
      ]
     },
     "execution_count": 27,
     "metadata": {},
     "output_type": "execute_result"
    }
   ],
   "source": [
    "input_ids "
   ]
  },
  {
   "cell_type": "code",
   "execution_count": 28,
   "metadata": {},
   "outputs": [
    {
     "name": "stdout",
     "output_type": "stream",
     "text": [
      "@ remy119 israel is only trying to defend itself against murderous muslims trying to wipe it out . un votes by muslim nations mean nothing .\n"
     ]
    }
   ],
   "source": [
    "tokenizer = transformers.DistilBertTokenizer.from_pretrained('distilbert-base-uncased')\n",
    "res = tokenizer.convert_ids_to_tokens(input_ids[0], skip_special_tokens = True)\n",
    "\n",
    "res = tokenizer.convert_tokens_to_string(res)\n",
    "print(res)"
   ]
  },
  {
   "cell_type": "code",
   "execution_count": 51,
   "metadata": {},
   "outputs": [],
   "source": [
    "model_explainer = ShapExplainer(joint_model, tweet_label = tweet_label.item(), tweet_as_one = tweet_as_one, vocab_as_one=vocab_as_one, network_as_one = network_as_one, dataset = dataset, untokenize = untokenize)\n"
   ]
  },
  {
   "cell_type": "code",
   "execution_count": 52,
   "metadata": {},
   "outputs": [
    {
     "name": "stderr",
     "output_type": "stream",
     "text": [
      "Implicit dimension choice for softmax has been deprecated. Change the call to include dim=X as an argument.\n",
      "Implicit dimension choice for softmax has been deprecated. Change the call to include dim=X as an argument.\n",
      "Implicit dimension choice for softmax has been deprecated. Change the call to include dim=X as an argument.\n"
     ]
    }
   ],
   "source": [
    "shapley_values, predicted_class, feature_distribution, vocab_indices = model_explainer.approximate_shap_values(input_ids, attention_mask, user_id)\n"
   ]
  },
  {
   "cell_type": "code",
   "execution_count": 47,
   "metadata": {},
   "outputs": [
    {
     "data": {
      "text/plain": [
       "(tensor([[-0.1740, -0.0666,  0.0000],\n",
       "         [ 0.5508, -0.2074,  0.0000],\n",
       "         [-0.3768,  0.2740,  0.0000]], grad_fn=<PermuteBackward>),\n",
       " 1,\n",
       " [1, 1, 1],\n",
       " None)"
      ]
     },
     "execution_count": 47,
     "metadata": {},
     "output_type": "execute_result"
    }
   ],
   "source": [
    "shapley_values, predicted_class, feature_distribution, vocab_indices"
   ]
  },
  {
   "cell_type": "code",
   "execution_count": 49,
   "metadata": {},
   "outputs": [
    {
     "name": "stdout",
     "output_type": "stream",
     "text": [
      "Original tweet: @ remy119 israel is only trying to defend itself against murderous muslims trying to wipe it out . un votes by muslim nations mean nothing .\n",
      "Features contributions to class 1 (real class: 1)\n",
      "3 3\n"
     ]
    },
    {
     "data": {
      "image/png": "[encoded data removed]",
      "text/plain": [
       "<Figure size 468x43.2 with 1 Axes>"
      ]
     },
     "metadata": {},
     "output_type": "display_data"
    }
   ],
   "source": [
    "model_explainer.visualize_shap_values(input_ids, user_id, tweet_label, shapley_values[predicted_class], predicted_class, feature_distribution, vocab_indices)\n",
    "\n"
   ]
  },
  {
   "cell_type": "code",
   "execution_count": 33,
   "metadata": {},
   "outputs": [
    {
     "data": {
      "text/html": [
       "<svg width=\"100%\" height=\"80px\"><line x1=\"0\" y1=\"33\" x2=\"100%\" y2=\"33\" style=\"stroke:rgb(150,150,150);stroke-width:1\" /><line x1=\"30.643413%\" y1=\"33\" x2=\"30.643413%\" y2=\"37\" style=\"stroke:rgb(150,150,150);stroke-width:1\" /><text x=\"30.643413%\" y=\"27\" font-size=\"12px\" fill=\"rgb(120,120,120)\" dominant-baseline=\"bottom\" text-anchor=\"middle\">0.000000</text><text x=\"30.643413%\" y=\"10\" font-size=\"12px\" fill=\"rgb(120,120,120)\" dominant-baseline=\"bottom\" text-anchor=\"middle\">base value</text><line x1=\"16.357699%\" y1=\"33\" x2=\"16.357699%\" y2=\"37\" style=\"stroke:rgb(150,150,150);stroke-width:1\" /><text x=\"16.357699%\" y=\"27\" font-size=\"12px\" fill=\"rgb(120,120,120)\" dominant-baseline=\"bottom\" text-anchor=\"middle\">-0.227045</text><line x1=\"44.929127%\" y1=\"33\" x2=\"44.929127%\" y2=\"37\" style=\"stroke:rgb(150,150,150);stroke-width:1\" /><text x=\"44.929127%\" y=\"27\" font-size=\"12px\" fill=\"rgb(120,120,120)\" dominant-baseline=\"bottom\" text-anchor=\"middle\">0.227045</text><line x1=\"59.214842%\" y1=\"33\" x2=\"59.214842%\" y2=\"37\" style=\"stroke:rgb(150,150,150);stroke-width:1\" /><text x=\"59.214842%\" y=\"27\" font-size=\"12px\" fill=\"rgb(120,120,120)\" dominant-baseline=\"bottom\" text-anchor=\"middle\">0.454091</text><line x1=\"73.500556%\" y1=\"33\" x2=\"73.500556%\" y2=\"37\" style=\"stroke:rgb(150,150,150);stroke-width:1\" /><text x=\"73.500556%\" y=\"27\" font-size=\"12px\" fill=\"rgb(120,120,120)\" dominant-baseline=\"bottom\" text-anchor=\"middle\">0.681136</text><line x1=\"87.786270%\" y1=\"33\" x2=\"87.786270%\" y2=\"37\" style=\"stroke:rgb(150,150,150);stroke-width:1\" /><text x=\"87.786270%\" y=\"27\" font-size=\"12px\" fill=\"rgb(120,120,120)\" dominant-baseline=\"bottom\" text-anchor=\"middle\">0.908182</text><line x1=\"69.356587%\" y1=\"33\" x2=\"69.356587%\" y2=\"37\" style=\"stroke:rgb(150,150,150);stroke-width:1\" /><text x=\"69.356587%\" y=\"27\" font-size=\"13px\" style=\"stroke:#ffffff;stroke-width:8px;\" font-weight=\"bold\" fill=\"rgb(255,255,255)\" dominant-baseline=\"bottom\" text-anchor=\"middle\">0.615275</text><text x=\"69.356587%\" y=\"27\" font-size=\"13px\" font-weight=\"bold\" fill=\"rgb(0,0,0)\" dominant-baseline=\"bottom\" text-anchor=\"middle\">0.615275</text><text x=\"69.356587%\" y=\"10\" font-size=\"12px\" fill=\"rgb(120,120,120)\" dominant-baseline=\"bottom\" text-anchor=\"middle\">f(x)</text><rect x=\"8.333333333333336%\" width=\"61.023253472554345%\" y=\"40\" height=\"18\" style=\"fill:rgb(255.0, 0.0, 81.08083606031792); stroke-width:0; stroke:rgb(0,0,0)\" /><line x1=\"56.033852059652396%\" x2=\"69.35658680588769%\" y1=\"60\" y2=\"60\" id=\"_fb_gtsgayxedjudptkiojbw_ind_10\" style=\"stroke:rgb(255.0, 0.0, 81.08083606031792);stroke-width:2; opacity: 0\"/><text x=\"62.695219432770045%\" y=\"71\" font-size=\"12px\" id=\"_fs_gtsgayxedjudptkiojbw_ind_10\" fill=\"rgb(255.0, 0.0, 81.08083606031792)\" style=\"opacity: 0\" dominant-baseline=\"middle\" text-anchor=\"middle\">0.212</text><svg x=\"56.033852059652396%\" y=\"40\" height=\"20\" width=\"13.322734746235291%\">  <svg x=\"0\" y=\"0\" width=\"100%\" height=\"100%\">    <text x=\"50%\" y=\"9\" font-size=\"12px\" fill=\"rgb(255,255,255)\" dominant-baseline=\"middle\" text-anchor=\"middle\">murderous</text>  </svg></svg><line x1=\"48.90093752520699%\" x2=\"56.033852059652396%\" y1=\"60\" y2=\"60\" id=\"_fb_gtsgayxedjudptkiojbw_ind_2\" style=\"stroke:rgb(255.0, 0.0, 81.08083606031792);stroke-width:2; opacity: 0\"/><text x=\"52.467394792429694%\" y=\"71\" font-size=\"12px\" id=\"_fs_gtsgayxedjudptkiojbw_ind_2\" fill=\"rgb(255.0, 0.0, 81.08083606031792)\" style=\"opacity: 0\" dominant-baseline=\"middle\" text-anchor=\"middle\">0.113</text><svg x=\"48.90093752520699%\" y=\"40\" height=\"20\" width=\"7.132914534445405%\">  <svg x=\"0\" y=\"0\" width=\"100%\" height=\"100%\">    <text x=\"50%\" y=\"9\" font-size=\"12px\" fill=\"rgb(255,255,255)\" dominant-baseline=\"middle\" text-anchor=\"middle\">israel</text>  </svg></svg><line x1=\"42.88825004499585%\" x2=\"48.90093752520699%\" y1=\"60\" y2=\"60\" id=\"_fb_gtsgayxedjudptkiojbw_ind_0\" style=\"stroke:rgb(255.0, 0.0, 81.08083606031792);stroke-width:2; opacity: 0\"/><text x=\"45.89459378510142%\" y=\"71\" font-size=\"12px\" id=\"_fs_gtsgayxedjudptkiojbw_ind_0\" fill=\"rgb(255.0, 0.0, 81.08083606031792)\" style=\"opacity: 0\" dominant-baseline=\"middle\" text-anchor=\"middle\">0.096</text><svg x=\"42.88825004499585%\" y=\"40\" height=\"20\" width=\"6.012687480211142%\">  <svg x=\"0\" y=\"0\" width=\"100%\" height=\"100%\">    <text x=\"50%\" y=\"9\" font-size=\"12px\" fill=\"rgb(255,255,255)\" dominant-baseline=\"middle\" text-anchor=\"middle\">@</text>  </svg></svg><line x1=\"37.21461013001309%\" x2=\"42.88825004499585%\" y1=\"60\" y2=\"60\" id=\"_fb_gtsgayxedjudptkiojbw_ind_11\" style=\"stroke:rgb(255.0, 0.0, 81.08083606031792);stroke-width:2; opacity: 0\"/><text x=\"40.05143008750447%\" y=\"71\" font-size=\"12px\" id=\"_fs_gtsgayxedjudptkiojbw_ind_11\" fill=\"rgb(255.0, 0.0, 81.08083606031792)\" style=\"opacity: 0\" dominant-baseline=\"middle\" text-anchor=\"middle\">0.09</text><svg x=\"37.21461013001309%\" y=\"40\" height=\"20\" width=\"5.673639914982758%\">  <svg x=\"0\" y=\"0\" width=\"100%\" height=\"100%\">    <text x=\"50%\" y=\"9\" font-size=\"12px\" fill=\"rgb(255,255,255)\" dominant-baseline=\"middle\" text-anchor=\"middle\">muslims</text>  </svg></svg><line x1=\"32.28322831978498%\" x2=\"37.21461013001309%\" y1=\"60\" y2=\"60\" id=\"_fb_gtsgayxedjudptkiojbw_ind_8\" style=\"stroke:rgb(255.0, 0.0, 81.08083606031792);stroke-width:2; opacity: 0\"/><text x=\"34.74891922489904%\" y=\"71\" font-size=\"12px\" id=\"_fs_gtsgayxedjudptkiojbw_ind_8\" fill=\"rgb(255.0, 0.0, 81.08083606031792)\" style=\"opacity: 0\" dominant-baseline=\"middle\" text-anchor=\"middle\">0.078</text><svg x=\"32.28322831978498%\" y=\"40\" height=\"20\" width=\"4.93138181022811%\">  <svg x=\"0\" y=\"0\" width=\"100%\" height=\"100%\">    <text x=\"50%\" y=\"9\" font-size=\"12px\" fill=\"rgb(255,255,255)\" dominant-baseline=\"middle\" text-anchor=\"middle\">itself</text>  </svg></svg><line x1=\"27.576252608305477%\" x2=\"32.28322831978498%\" y1=\"60\" y2=\"60\" id=\"_fb_gtsgayxedjudptkiojbw_ind_1\" style=\"stroke:rgb(255.0, 0.0, 81.08083606031792);stroke-width:2; opacity: 0\"/><text x=\"29.92974046404523%\" y=\"71\" font-size=\"12px\" id=\"_fs_gtsgayxedjudptkiojbw_ind_1\" fill=\"rgb(255.0, 0.0, 81.08083606031792)\" style=\"opacity: 0\" dominant-baseline=\"middle\" text-anchor=\"middle\">0.075</text><svg x=\"27.576252608305477%\" y=\"40\" height=\"20\" width=\"4.7069757114795046%\">  <svg x=\"0\" y=\"0\" width=\"100%\" height=\"100%\">    <text x=\"50%\" y=\"9\" font-size=\"12px\" fill=\"rgb(255,255,255)\" dominant-baseline=\"middle\" text-anchor=\"middle\">remy119</text>  </svg></svg><line x1=\"23.165993091063676%\" x2=\"27.576252608305477%\" y1=\"60\" y2=\"60\" id=\"_fb_gtsgayxedjudptkiojbw_ind_23\" style=\"stroke:rgb(255.0, 0.0, 81.08083606031792);stroke-width:2; opacity: 0\"/><text x=\"25.371122849684575%\" y=\"71\" font-size=\"12px\" id=\"_fs_gtsgayxedjudptkiojbw_ind_23\" fill=\"rgb(255.0, 0.0, 81.08083606031792)\" style=\"opacity: 0\" dominant-baseline=\"middle\" text-anchor=\"middle\">0.07</text><svg x=\"23.165993091063676%\" y=\"40\" height=\"20\" width=\"4.410259517241801%\">  <svg x=\"0\" y=\"0\" width=\"100%\" height=\"100%\">    <text x=\"50%\" y=\"9\" font-size=\"12px\" fill=\"rgb(255,255,255)\" dominant-baseline=\"middle\" text-anchor=\"middle\">mean</text>  </svg></svg><line x1=\"20.48960307129161%\" x2=\"23.165993091063676%\" y1=\"60\" y2=\"60\" id=\"_fb_gtsgayxedjudptkiojbw_ind_3\" style=\"stroke:rgb(255.0, 0.0, 81.08083606031792);stroke-width:2; opacity: 0\"/><text x=\"21.827798081177644%\" y=\"71\" font-size=\"12px\" id=\"_fs_gtsgayxedjudptkiojbw_ind_3\" fill=\"rgb(255.0, 0.0, 81.08083606031792)\" style=\"opacity: 0\" dominant-baseline=\"middle\" text-anchor=\"middle\">0.043</text><svg x=\"20.48960307129161%\" y=\"40\" height=\"20\" width=\"2.6763900197720645%\">  <svg x=\"0\" y=\"0\" width=\"100%\" height=\"100%\">    <text x=\"50%\" y=\"9\" font-size=\"12px\" fill=\"rgb(255,255,255)\" dominant-baseline=\"middle\" text-anchor=\"middle\">is</text>  </svg></svg><line x1=\"17.907076288379738%\" x2=\"20.48960307129161%\" y1=\"60\" y2=\"60\" id=\"_fb_gtsgayxedjudptkiojbw_ind_5\" style=\"stroke:rgb(255.0, 0.0, 81.08083606031792);stroke-width:2; opacity: 0\"/><text x=\"19.198339679835676%\" y=\"71\" font-size=\"12px\" id=\"_fs_gtsgayxedjudptkiojbw_ind_5\" fill=\"rgb(255.0, 0.0, 81.08083606031792)\" style=\"opacity: 0\" dominant-baseline=\"middle\" text-anchor=\"middle\">0.041</text><svg x=\"17.907076288379738%\" y=\"40\" height=\"20\" width=\"2.5825267829118737%\">  <svg x=\"0\" y=\"0\" width=\"100%\" height=\"100%\">    <text x=\"50%\" y=\"9\" font-size=\"12px\" fill=\"rgb(255,255,255)\" dominant-baseline=\"middle\" text-anchor=\"middle\">trying</text>  </svg></svg><line x1=\"15.340037661488145%\" x2=\"17.907076288379738%\" y1=\"60\" y2=\"60\" id=\"_fb_gtsgayxedjudptkiojbw_ind_21\" style=\"stroke:rgb(255.0, 0.0, 81.08083606031792);stroke-width:2; opacity: 0\"/><text x=\"16.62355697493394%\" y=\"71\" font-size=\"12px\" id=\"_fs_gtsgayxedjudptkiojbw_ind_21\" fill=\"rgb(255.0, 0.0, 81.08083606031792)\" style=\"opacity: 0\" dominant-baseline=\"middle\" text-anchor=\"middle\">0.041</text><svg x=\"15.340037661488145%\" y=\"40\" height=\"20\" width=\"2.567038626891593%\">  <svg x=\"0\" y=\"0\" width=\"100%\" height=\"100%\">    <text x=\"50%\" y=\"9\" font-size=\"12px\" fill=\"rgb(255,255,255)\" dominant-baseline=\"middle\" text-anchor=\"middle\">muslim</text>  </svg></svg><line x1=\"12.985885294309956%\" x2=\"15.340037661488145%\" y1=\"60\" y2=\"60\" id=\"_fb_gtsgayxedjudptkiojbw_ind_14\" style=\"stroke:rgb(255.0, 0.0, 81.08083606031792);stroke-width:2; opacity: 0\"/><text x=\"14.16296147789905%\" y=\"71\" font-size=\"12px\" id=\"_fs_gtsgayxedjudptkiojbw_ind_14\" fill=\"rgb(255.0, 0.0, 81.08083606031792)\" style=\"opacity: 0\" dominant-baseline=\"middle\" text-anchor=\"middle\">0.037</text><svg x=\"12.985885294309956%\" y=\"40\" height=\"20\" width=\"2.354152367178189%\">  <svg x=\"0\" y=\"0\" width=\"100%\" height=\"100%\">    <text x=\"50%\" y=\"9\" font-size=\"12px\" fill=\"rgb(255,255,255)\" dominant-baseline=\"middle\" text-anchor=\"middle\">wipe</text>  </svg></svg><line x1=\"11.13888969771475%\" x2=\"12.985885294309956%\" y1=\"60\" y2=\"60\" id=\"_fb_gtsgayxedjudptkiojbw_ind_24\" style=\"stroke:rgb(255.0, 0.0, 81.08083606031792);stroke-width:2; opacity: 0\"/><text x=\"12.062387496012352%\" y=\"71\" font-size=\"12px\" id=\"_fs_gtsgayxedjudptkiojbw_ind_24\" fill=\"rgb(255.0, 0.0, 81.08083606031792)\" style=\"opacity: 0\" dominant-baseline=\"middle\" text-anchor=\"middle\">0.029</text><svg x=\"11.13888969771475%\" y=\"40\" height=\"20\" width=\"1.846995596595205%\">  <svg x=\"0\" y=\"0\" width=\"100%\" height=\"100%\">    <text x=\"50%\" y=\"9\" font-size=\"12px\" fill=\"rgb(255,255,255)\" dominant-baseline=\"middle\" text-anchor=\"middle\">nothing</text>  </svg></svg><line x1=\"9.933373362142891%\" x2=\"11.13888969771475%\" y1=\"60\" y2=\"60\" id=\"_fb_gtsgayxedjudptkiojbw_ind_25\" style=\"stroke:rgb(255.0, 0.0, 81.08083606031792);stroke-width:2; opacity: 0\"/><text x=\"10.53613152992882%\" y=\"71\" font-size=\"12px\" id=\"_fs_gtsgayxedjudptkiojbw_ind_25\" fill=\"rgb(255.0, 0.0, 81.08083606031792)\" style=\"opacity: 0\" dominant-baseline=\"middle\" text-anchor=\"middle\">0.019</text><svg x=\"9.933373362142891%\" y=\"40\" height=\"20\" width=\"1.2055163355718594%\">  <svg x=\"0\" y=\"0\" width=\"100%\" height=\"100%\">    <text x=\"50%\" y=\"9\" font-size=\"12px\" fill=\"rgb(255,255,255)\" dominant-baseline=\"middle\" text-anchor=\"middle\">.</text>  </svg></svg><line x1=\"9.16172234601593%\" x2=\"9.933373362142891%\" y1=\"60\" y2=\"60\" id=\"_fb_gtsgayxedjudptkiojbw_ind_12\" style=\"stroke:rgb(255.0, 0.0, 81.08083606031792);stroke-width:2; opacity: 0\"/><text x=\"9.547547854079411%\" y=\"71\" font-size=\"12px\" id=\"_fs_gtsgayxedjudptkiojbw_ind_12\" fill=\"rgb(255.0, 0.0, 81.08083606031792)\" style=\"opacity: 0\" dominant-baseline=\"middle\" text-anchor=\"middle\">0.012</text><svg x=\"9.16172234601593%\" y=\"40\" height=\"20\" width=\"0.7716510161269614%\">  <svg x=\"0\" y=\"0\" width=\"100%\" height=\"100%\">    <text x=\"50%\" y=\"9\" font-size=\"12px\" fill=\"rgb(255,255,255)\" dominant-baseline=\"middle\" text-anchor=\"middle\">trying</text>  </svg></svg><line x1=\"8.659980992062842%\" x2=\"9.16172234601593%\" y1=\"60\" y2=\"60\" id=\"_fb_gtsgayxedjudptkiojbw_ind_15\" style=\"stroke:rgb(255.0, 0.0, 81.08083606031792);stroke-width:2; opacity: 0\"/><text x=\"8.910851669039385%\" y=\"71\" font-size=\"12px\" id=\"_fs_gtsgayxedjudptkiojbw_ind_15\" fill=\"rgb(255.0, 0.0, 81.08083606031792)\" style=\"opacity: 0\" dominant-baseline=\"middle\" text-anchor=\"middle\">0.008</text><svg x=\"8.659980992062842%\" y=\"40\" height=\"20\" width=\"0.5017413539530882%\">  <svg x=\"0\" y=\"0\" width=\"100%\" height=\"100%\">    <text x=\"50%\" y=\"9\" font-size=\"12px\" fill=\"rgb(255,255,255)\" dominant-baseline=\"middle\" text-anchor=\"middle\">it</text>  </svg></svg><line x1=\"8.333333333333336%\" x2=\"8.659980992062842%\" y1=\"60\" y2=\"60\" id=\"_fb_gtsgayxedjudptkiojbw_ind_17\" style=\"stroke:rgb(255.0, 0.0, 81.08083606031792);stroke-width:2; opacity: 0\"/><text x=\"8.496657162698089%\" y=\"71\" font-size=\"12px\" id=\"_fs_gtsgayxedjudptkiojbw_ind_17\" fill=\"rgb(255.0, 0.0, 81.08083606031792)\" style=\"opacity: 0\" dominant-baseline=\"middle\" text-anchor=\"middle\">0.005</text><svg x=\"8.333333333333336%\" y=\"40\" height=\"20\" width=\"0.32664765872950596%\">  <svg x=\"0\" y=\"0\" width=\"100%\" height=\"100%\">    <text x=\"50%\" y=\"9\" font-size=\"12px\" fill=\"rgb(255,255,255)\" dominant-baseline=\"middle\" text-anchor=\"middle\">.</text>  </svg></svg><g transform=\"translate(0,0)\">  <svg x=\"56.033852059652396%\" y=\"40\" height=\"18\" overflow=\"visible\" width=\"30\">    <path d=\"M 0 -9 l 6 18 L 0 25\" fill=\"none\" style=\"stroke:rgb(255.0, 0.0, 81.08083606031792);stroke-width:2\" />  </svg></g><g transform=\"translate(2,0)\">  <svg x=\"56.033852059652396%\" y=\"40\" height=\"18\" overflow=\"visible\" width=\"30\">    <path d=\"M 0 -9 l 6 18 L 0 25\" fill=\"none\" style=\"stroke:rgb(255.0, 0.0, 81.08083606031792);stroke-width:2\" />  </svg></g><g transform=\"translate(4,0)\">  <svg x=\"56.033852059652396%\" y=\"40\" height=\"18\" overflow=\"visible\" width=\"30\">    <path d=\"M 0 -9 l 6 18 L 0 25\" fill=\"none\" style=\"stroke:rgb(255.0, 0.0, 81.08083606031792);stroke-width:2\" />  </svg></g><g transform=\"translate(6,0)\">  <svg x=\"56.033852059652396%\" y=\"40\" height=\"18\" overflow=\"visible\" width=\"30\">    <path d=\"M 0 -9 l 6 18 L 0 25\" fill=\"none\" style=\"stroke:rgb(255.0, 0.0, 81.08083606031792);stroke-width:2\" />  </svg></g><g transform=\"translate(-8,0)\">  <svg x=\"56.033852059652396%\" y=\"40\" height=\"18\" overflow=\"visible\" width=\"30\">    <path d=\"M 0 -9 l 6 18 L 0 25\" fill=\"none\" style=\"stroke:rgb(255.0, 0.0, 81.08083606031792);stroke-width:2\" />  </svg></g><g transform=\"translate(-6,0)\">  <svg x=\"56.033852059652396%\" y=\"40\" height=\"18\" overflow=\"visible\" width=\"30\">    <path d=\"M 0 -9 l 6 18 L 0 25\" fill=\"none\" style=\"stroke:rgb(255.0, 0.0, 81.08083606031792);stroke-width:2\" />  </svg></g><g transform=\"translate(-4,0)\">  <svg x=\"56.033852059652396%\" y=\"40\" height=\"18\" overflow=\"visible\" width=\"30\">    <path d=\"M 0 -9 l 6 18 L 0 25\" fill=\"none\" style=\"stroke:rgb(255.0, 0.0, 81.08083606031792);stroke-width:2\" />  </svg></g><g transform=\"translate(-2,0)\">  <svg x=\"56.033852059652396%\" y=\"40\" height=\"18\" overflow=\"visible\" width=\"30\">    <path d=\"M 0 -9 l 6 18 L 0 25\" fill=\"none\" style=\"stroke:rgb(255.0, 0.0, 81.08083606031792);stroke-width:2\" />  </svg></g><g transform=\"translate(0,0)\">  <svg x=\"48.90093752520699%\" y=\"40\" height=\"18\" overflow=\"visible\" width=\"30\">    <path d=\"M 0 -9 l 6 18 L 0 25\" fill=\"none\" style=\"stroke:rgb(255.0, 0.0, 81.08083606031792);stroke-width:2\" />  </svg></g><g transform=\"translate(2,0)\">  <svg x=\"48.90093752520699%\" y=\"40\" height=\"18\" overflow=\"visible\" width=\"30\">    <path d=\"M 0 -9 l 6 18 L 0 25\" fill=\"none\" style=\"stroke:rgb(255.0, 0.0, 81.08083606031792);stroke-width:2\" />  </svg></g><g transform=\"translate(4,0)\">  <svg x=\"48.90093752520699%\" y=\"40\" height=\"18\" overflow=\"visible\" width=\"30\">    <path d=\"M 0 -9 l 6 18 L 0 25\" fill=\"none\" style=\"stroke:rgb(255.0, 0.0, 81.08083606031792);stroke-width:2\" />  </svg></g><g transform=\"translate(6,0)\">  <svg x=\"48.90093752520699%\" y=\"40\" height=\"18\" overflow=\"visible\" width=\"30\">    <path d=\"M 0 -9 l 6 18 L 0 25\" fill=\"none\" style=\"stroke:rgb(255.0, 0.0, 81.08083606031792);stroke-width:2\" />  </svg></g><g transform=\"translate(-8,0)\">  <svg x=\"48.90093752520699%\" y=\"40\" height=\"18\" overflow=\"visible\" width=\"30\">    <path d=\"M 0 -9 l 6 18 L 0 25\" fill=\"none\" style=\"stroke:rgb(255.0, 0.0, 81.08083606031792);stroke-width:2\" />  </svg></g><g transform=\"translate(-6,0)\">  <svg x=\"48.90093752520699%\" y=\"40\" height=\"18\" overflow=\"visible\" width=\"30\">    <path d=\"M 0 -9 l 6 18 L 0 25\" fill=\"none\" style=\"stroke:rgb(255.0, 0.0, 81.08083606031792);stroke-width:2\" />  </svg></g><g transform=\"translate(-4,0)\">  <svg x=\"48.90093752520699%\" y=\"40\" height=\"18\" overflow=\"visible\" width=\"30\">    <path d=\"M 0 -9 l 6 18 L 0 25\" fill=\"none\" style=\"stroke:rgb(255.0, 0.0, 81.08083606031792);stroke-width:2\" />  </svg></g><g transform=\"translate(-2,0)\">  <svg x=\"48.90093752520699%\" y=\"40\" height=\"18\" overflow=\"visible\" width=\"30\">    <path d=\"M 0 -9 l 6 18 L 0 25\" fill=\"none\" style=\"stroke:rgb(255.0, 0.0, 81.08083606031792);stroke-width:2\" />  </svg></g><g transform=\"translate(0,0)\">  <svg x=\"42.88825004499585%\" y=\"40\" height=\"18\" overflow=\"visible\" width=\"30\">    <path d=\"M 0 -9 l 6 18 L 0 25\" fill=\"none\" style=\"stroke:rgb(255.0, 0.0, 81.08083606031792);stroke-width:2\" />  </svg></g><g transform=\"translate(2,0)\">  <svg x=\"42.88825004499585%\" y=\"40\" height=\"18\" overflow=\"visible\" width=\"30\">    <path d=\"M 0 -9 l 6 18 L 0 25\" fill=\"none\" style=\"stroke:rgb(255.0, 0.0, 81.08083606031792);stroke-width:2\" />  </svg></g><g transform=\"translate(4,0)\">  <svg x=\"42.88825004499585%\" y=\"40\" height=\"18\" overflow=\"visible\" width=\"30\">    <path d=\"M 0 -9 l 6 18 L 0 25\" fill=\"none\" style=\"stroke:rgb(255.0, 0.0, 81.08083606031792);stroke-width:2\" />  </svg></g><g transform=\"translate(6,0)\">  <svg x=\"42.88825004499585%\" y=\"40\" height=\"18\" overflow=\"visible\" width=\"30\">    <path d=\"M 0 -9 l 6 18 L 0 25\" fill=\"none\" style=\"stroke:rgb(255.0, 0.0, 81.08083606031792);stroke-width:2\" />  </svg></g><g transform=\"translate(-8,0)\">  <svg x=\"42.88825004499585%\" y=\"40\" height=\"18\" overflow=\"visible\" width=\"30\">    <path d=\"M 0 -9 l 6 18 L 0 25\" fill=\"none\" style=\"stroke:rgb(255.0, 0.0, 81.08083606031792);stroke-width:2\" />  </svg></g><g transform=\"translate(-6,0)\">  <svg x=\"42.88825004499585%\" y=\"40\" height=\"18\" overflow=\"visible\" width=\"30\">    <path d=\"M 0 -9 l 6 18 L 0 25\" fill=\"none\" style=\"stroke:rgb(255.0, 0.0, 81.08083606031792);stroke-width:2\" />  </svg></g><g transform=\"translate(-4,0)\">  <svg x=\"42.88825004499585%\" y=\"40\" height=\"18\" overflow=\"visible\" width=\"30\">    <path d=\"M 0 -9 l 6 18 L 0 25\" fill=\"none\" style=\"stroke:rgb(255.0, 0.0, 81.08083606031792);stroke-width:2\" />  </svg></g><g transform=\"translate(-2,0)\">  <svg x=\"42.88825004499585%\" y=\"40\" height=\"18\" overflow=\"visible\" width=\"30\">    <path d=\"M 0 -9 l 6 18 L 0 25\" fill=\"none\" style=\"stroke:rgb(255.0, 0.0, 81.08083606031792);stroke-width:2\" />  </svg></g><g transform=\"translate(0,0)\">  <svg x=\"37.21461013001309%\" y=\"40\" height=\"18\" overflow=\"visible\" width=\"30\">    <path d=\"M 0 -9 l 6 18 L 0 25\" fill=\"none\" style=\"stroke:rgb(255.0, 0.0, 81.08083606031792);stroke-width:2\" />  </svg></g><g transform=\"translate(2,0)\">  <svg x=\"37.21461013001309%\" y=\"40\" height=\"18\" overflow=\"visible\" width=\"30\">    <path d=\"M 0 -9 l 6 18 L 0 25\" fill=\"none\" style=\"stroke:rgb(255.0, 0.0, 81.08083606031792);stroke-width:2\" />  </svg></g><g transform=\"translate(4,0)\">  <svg x=\"37.21461013001309%\" y=\"40\" height=\"18\" overflow=\"visible\" width=\"30\">    <path d=\"M 0 -9 l 6 18 L 0 25\" fill=\"none\" style=\"stroke:rgb(255.0, 0.0, 81.08083606031792);stroke-width:2\" />  </svg></g><g transform=\"translate(6,0)\">  <svg x=\"37.21461013001309%\" y=\"40\" height=\"18\" overflow=\"visible\" width=\"30\">    <path d=\"M 0 -9 l 6 18 L 0 25\" fill=\"none\" style=\"stroke:rgb(255.0, 0.0, 81.08083606031792);stroke-width:2\" />  </svg></g><g transform=\"translate(-8,0)\">  <svg x=\"37.21461013001309%\" y=\"40\" height=\"18\" overflow=\"visible\" width=\"30\">    <path d=\"M 0 -9 l 6 18 L 0 25\" fill=\"none\" style=\"stroke:rgb(255.0, 0.0, 81.08083606031792);stroke-width:2\" />  </svg></g><g transform=\"translate(-6,0)\">  <svg x=\"37.21461013001309%\" y=\"40\" height=\"18\" overflow=\"visible\" width=\"30\">    <path d=\"M 0 -9 l 6 18 L 0 25\" fill=\"none\" style=\"stroke:rgb(255.0, 0.0, 81.08083606031792);stroke-width:2\" />  </svg></g><g transform=\"translate(-4,0)\">  <svg x=\"37.21461013001309%\" y=\"40\" height=\"18\" overflow=\"visible\" width=\"30\">    <path d=\"M 0 -9 l 6 18 L 0 25\" fill=\"none\" style=\"stroke:rgb(255.0, 0.0, 81.08083606031792);stroke-width:2\" />  </svg></g><g transform=\"translate(-2,0)\">  <svg x=\"37.21461013001309%\" y=\"40\" height=\"18\" overflow=\"visible\" width=\"30\">    <path d=\"M 0 -9 l 6 18 L 0 25\" fill=\"none\" style=\"stroke:rgb(255.0, 0.0, 81.08083606031792);stroke-width:2\" />  </svg></g><g transform=\"translate(0,0)\">  <svg x=\"32.28322831978498%\" y=\"40\" height=\"18\" overflow=\"visible\" width=\"30\">    <path d=\"M 0 -9 l 6 18 L 0 25\" fill=\"none\" style=\"stroke:rgb(255.0, 0.0, 81.08083606031792);stroke-width:2\" />  </svg></g><g transform=\"translate(2,0)\">  <svg x=\"32.28322831978498%\" y=\"40\" height=\"18\" overflow=\"visible\" width=\"30\">    <path d=\"M 0 -9 l 6 18 L 0 25\" fill=\"none\" style=\"stroke:rgb(255.0, 0.0, 81.08083606031792);stroke-width:2\" />  </svg></g><g transform=\"translate(4,0)\">  <svg x=\"32.28322831978498%\" y=\"40\" height=\"18\" overflow=\"visible\" width=\"30\">    <path d=\"M 0 -9 l 6 18 L 0 25\" fill=\"none\" style=\"stroke:rgb(255.0, 0.0, 81.08083606031792);stroke-width:2\" />  </svg></g><g transform=\"translate(6,0)\">  <svg x=\"32.28322831978498%\" y=\"40\" height=\"18\" overflow=\"visible\" width=\"30\">    <path d=\"M 0 -9 l 6 18 L 0 25\" fill=\"none\" style=\"stroke:rgb(255.0, 0.0, 81.08083606031792);stroke-width:2\" />  </svg></g><g transform=\"translate(-8,0)\">  <svg x=\"32.28322831978498%\" y=\"40\" height=\"18\" overflow=\"visible\" width=\"30\">    <path d=\"M 0 -9 l 6 18 L 0 25\" fill=\"none\" style=\"stroke:rgb(255.0, 0.0, 81.08083606031792);stroke-width:2\" />  </svg></g><g transform=\"translate(-6,0)\">  <svg x=\"32.28322831978498%\" y=\"40\" height=\"18\" overflow=\"visible\" width=\"30\">    <path d=\"M 0 -9 l 6 18 L 0 25\" fill=\"none\" style=\"stroke:rgb(255.0, 0.0, 81.08083606031792);stroke-width:2\" />  </svg></g><g transform=\"translate(-4,0)\">  <svg x=\"32.28322831978498%\" y=\"40\" height=\"18\" overflow=\"visible\" width=\"30\">    <path d=\"M 0 -9 l 6 18 L 0 25\" fill=\"none\" style=\"stroke:rgb(255.0, 0.0, 81.08083606031792);stroke-width:2\" />  </svg></g><g transform=\"translate(-2,0)\">  <svg x=\"32.28322831978498%\" y=\"40\" height=\"18\" overflow=\"visible\" width=\"30\">    <path d=\"M 0 -9 l 6 18 L 0 25\" fill=\"none\" style=\"stroke:rgb(255.0, 0.0, 81.08083606031792);stroke-width:2\" />  </svg></g><g transform=\"translate(0,0)\">  <svg x=\"27.576252608305477%\" y=\"40\" height=\"18\" overflow=\"visible\" width=\"30\">    <path d=\"M 0 -9 l 6 18 L 0 25\" fill=\"none\" style=\"stroke:rgb(255.0, 0.0, 81.08083606031792);stroke-width:2\" />  </svg></g><g transform=\"translate(2,0)\">  <svg x=\"27.576252608305477%\" y=\"40\" height=\"18\" overflow=\"visible\" width=\"30\">    <path d=\"M 0 -9 l 6 18 L 0 25\" fill=\"none\" style=\"stroke:rgb(255.0, 0.0, 81.08083606031792);stroke-width:2\" />  </svg></g><g transform=\"translate(4,0)\">  <svg x=\"27.576252608305477%\" y=\"40\" height=\"18\" overflow=\"visible\" width=\"30\">    <path d=\"M 0 -9 l 6 18 L 0 25\" fill=\"none\" style=\"stroke:rgb(255.0, 0.0, 81.08083606031792);stroke-width:2\" />  </svg></g><g transform=\"translate(6,0)\">  <svg x=\"27.576252608305477%\" y=\"40\" height=\"18\" overflow=\"visible\" width=\"30\">    <path d=\"M 0 -9 l 6 18 L 0 25\" fill=\"none\" style=\"stroke:rgb(255.0, 0.0, 81.08083606031792);stroke-width:2\" />  </svg></g><g transform=\"translate(-8,0)\">  <svg x=\"27.576252608305477%\" y=\"40\" height=\"18\" overflow=\"visible\" width=\"30\">    <path d=\"M 0 -9 l 6 18 L 0 25\" fill=\"none\" style=\"stroke:rgb(255.0, 0.0, 81.08083606031792);stroke-width:2\" />  </svg></g><g transform=\"translate(-6,0)\">  <svg x=\"27.576252608305477%\" y=\"40\" height=\"18\" overflow=\"visible\" width=\"30\">    <path d=\"M 0 -9 l 6 18 L 0 25\" fill=\"none\" style=\"stroke:rgb(255.0, 0.0, 81.08083606031792);stroke-width:2\" />  </svg></g><g transform=\"translate(-4,0)\">  <svg x=\"27.576252608305477%\" y=\"40\" height=\"18\" overflow=\"visible\" width=\"30\">    <path d=\"M 0 -9 l 6 18 L 0 25\" fill=\"none\" style=\"stroke:rgb(255.0, 0.0, 81.08083606031792);stroke-width:2\" />  </svg></g><g transform=\"translate(-2,0)\">  <svg x=\"27.576252608305477%\" y=\"40\" height=\"18\" overflow=\"visible\" width=\"30\">    <path d=\"M 0 -9 l 6 18 L 0 25\" fill=\"none\" style=\"stroke:rgb(255.0, 0.0, 81.08083606031792);stroke-width:2\" />  </svg></g><g transform=\"translate(0,0)\">  <svg x=\"23.165993091063676%\" y=\"40\" height=\"18\" overflow=\"visible\" width=\"30\">    <path d=\"M 0 -9 l 6 18 L 0 25\" fill=\"none\" style=\"stroke:rgb(255.0, 0.0, 81.08083606031792);stroke-width:2\" />  </svg></g><g transform=\"translate(2,0)\">  <svg x=\"23.165993091063676%\" y=\"40\" height=\"18\" overflow=\"visible\" width=\"30\">    <path d=\"M 0 -9 l 6 18 L 0 25\" fill=\"none\" style=\"stroke:rgb(255.0, 0.0, 81.08083606031792);stroke-width:2\" />  </svg></g><g transform=\"translate(4,0)\">  <svg x=\"23.165993091063676%\" y=\"40\" height=\"18\" overflow=\"visible\" width=\"30\">    <path d=\"M 0 -9 l 6 18 L 0 25\" fill=\"none\" style=\"stroke:rgb(255.0, 0.0, 81.08083606031792);stroke-width:2\" />  </svg></g><g transform=\"translate(6,0)\">  <svg x=\"23.165993091063676%\" y=\"40\" height=\"18\" overflow=\"visible\" width=\"30\">    <path d=\"M 0 -9 l 6 18 L 0 25\" fill=\"none\" style=\"stroke:rgb(255.0, 0.0, 81.08083606031792);stroke-width:2\" />  </svg></g><g transform=\"translate(-8,0)\">  <svg x=\"23.165993091063676%\" y=\"40\" height=\"18\" overflow=\"visible\" width=\"30\">    <path d=\"M 0 -9 l 6 18 L 0 25\" fill=\"none\" style=\"stroke:rgb(255.0, 0.0, 81.08083606031792);stroke-width:2\" />  </svg></g><g transform=\"translate(-6,0)\">  <svg x=\"23.165993091063676%\" y=\"40\" height=\"18\" overflow=\"visible\" width=\"30\">    <path d=\"M 0 -9 l 6 18 L 0 25\" fill=\"none\" style=\"stroke:rgb(255.0, 0.0, 81.08083606031792);stroke-width:2\" />  </svg></g><g transform=\"translate(-4,0)\">  <svg x=\"23.165993091063676%\" y=\"40\" height=\"18\" overflow=\"visible\" width=\"30\">    <path d=\"M 0 -9 l 6 18 L 0 25\" fill=\"none\" style=\"stroke:rgb(255.0, 0.0, 81.08083606031792);stroke-width:2\" />  </svg></g><g transform=\"translate(-2,0)\">  <svg x=\"23.165993091063676%\" y=\"40\" height=\"18\" overflow=\"visible\" width=\"30\">    <path d=\"M 0 -9 l 6 18 L 0 25\" fill=\"none\" style=\"stroke:rgb(255.0, 0.0, 81.08083606031792);stroke-width:2\" />  </svg></g><g transform=\"translate(0,0)\">  <svg x=\"20.48960307129161%\" y=\"40\" height=\"18\" overflow=\"visible\" width=\"30\">    <path d=\"M 0 -9 l 6 18 L 0 25\" fill=\"none\" style=\"stroke:rgb(255.0, 0.0, 81.08083606031792);stroke-width:2\" />  </svg></g><g transform=\"translate(2,0)\">  <svg x=\"20.48960307129161%\" y=\"40\" height=\"18\" overflow=\"visible\" width=\"30\">    <path d=\"M 0 -9 l 6 18 L 0 25\" fill=\"none\" style=\"stroke:rgb(255.0, 0.0, 81.08083606031792);stroke-width:2\" />  </svg></g><g transform=\"translate(4,0)\">  <svg x=\"20.48960307129161%\" y=\"40\" height=\"18\" overflow=\"visible\" width=\"30\">    <path d=\"M 0 -9 l 6 18 L 0 25\" fill=\"none\" style=\"stroke:rgb(255.0, 0.0, 81.08083606031792);stroke-width:2\" />  </svg></g><g transform=\"translate(6,0)\">  <svg x=\"20.48960307129161%\" y=\"40\" height=\"18\" overflow=\"visible\" width=\"30\">    <path d=\"M 0 -9 l 6 18 L 0 25\" fill=\"none\" style=\"stroke:rgb(255.0, 0.0, 81.08083606031792);stroke-width:2\" />  </svg></g><g transform=\"translate(-8,0)\">  <svg x=\"20.48960307129161%\" y=\"40\" height=\"18\" overflow=\"visible\" width=\"30\">    <path d=\"M 0 -9 l 6 18 L 0 25\" fill=\"none\" style=\"stroke:rgb(255.0, 0.0, 81.08083606031792);stroke-width:2\" />  </svg></g><g transform=\"translate(-6,0)\">  <svg x=\"20.48960307129161%\" y=\"40\" height=\"18\" overflow=\"visible\" width=\"30\">    <path d=\"M 0 -9 l 6 18 L 0 25\" fill=\"none\" style=\"stroke:rgb(255.0, 0.0, 81.08083606031792);stroke-width:2\" />  </svg></g><g transform=\"translate(-4,0)\">  <svg x=\"20.48960307129161%\" y=\"40\" height=\"18\" overflow=\"visible\" width=\"30\">    <path d=\"M 0 -9 l 6 18 L 0 25\" fill=\"none\" style=\"stroke:rgb(255.0, 0.0, 81.08083606031792);stroke-width:2\" />  </svg></g><g transform=\"translate(-2,0)\">  <svg x=\"20.48960307129161%\" y=\"40\" height=\"18\" overflow=\"visible\" width=\"30\">    <path d=\"M 0 -9 l 6 18 L 0 25\" fill=\"none\" style=\"stroke:rgb(255.0, 0.0, 81.08083606031792);stroke-width:2\" />  </svg></g><g transform=\"translate(0,0)\">  <svg x=\"17.907076288379738%\" y=\"40\" height=\"18\" overflow=\"visible\" width=\"30\">    <path d=\"M 0 -9 l 6 18 L 0 25\" fill=\"none\" style=\"stroke:rgb(255.0, 0.0, 81.08083606031792);stroke-width:2\" />  </svg></g><g transform=\"translate(2,0)\">  <svg x=\"17.907076288379738%\" y=\"40\" height=\"18\" overflow=\"visible\" width=\"30\">    <path d=\"M 0 -9 l 6 18 L 0 25\" fill=\"none\" style=\"stroke:rgb(255.0, 0.0, 81.08083606031792);stroke-width:2\" />  </svg></g><g transform=\"translate(4,0)\">  <svg x=\"17.907076288379738%\" y=\"40\" height=\"18\" overflow=\"visible\" width=\"30\">    <path d=\"M 0 -9 l 6 18 L 0 25\" fill=\"none\" style=\"stroke:rgb(255.0, 0.0, 81.08083606031792);stroke-width:2\" />  </svg></g><g transform=\"translate(6,0)\">  <svg x=\"17.907076288379738%\" y=\"40\" height=\"18\" overflow=\"visible\" width=\"30\">    <path d=\"M 0 -9 l 6 18 L 0 25\" fill=\"none\" style=\"stroke:rgb(255.0, 0.0, 81.08083606031792);stroke-width:2\" />  </svg></g><g transform=\"translate(-8,0)\">  <svg x=\"17.907076288379738%\" y=\"40\" height=\"18\" overflow=\"visible\" width=\"30\">    <path d=\"M 0 -9 l 6 18 L 0 25\" fill=\"none\" style=\"stroke:rgb(255.0, 0.0, 81.08083606031792);stroke-width:2\" />  </svg></g><g transform=\"translate(-6,0)\">  <svg x=\"17.907076288379738%\" y=\"40\" height=\"18\" overflow=\"visible\" width=\"30\">    <path d=\"M 0 -9 l 6 18 L 0 25\" fill=\"none\" style=\"stroke:rgb(255.0, 0.0, 81.08083606031792);stroke-width:2\" />  </svg></g><g transform=\"translate(-4,0)\">  <svg x=\"17.907076288379738%\" y=\"40\" height=\"18\" overflow=\"visible\" width=\"30\">    <path d=\"M 0 -9 l 6 18 L 0 25\" fill=\"none\" style=\"stroke:rgb(255.0, 0.0, 81.08083606031792);stroke-width:2\" />  </svg></g><g transform=\"translate(-2,0)\">  <svg x=\"17.907076288379738%\" y=\"40\" height=\"18\" overflow=\"visible\" width=\"30\">    <path d=\"M 0 -9 l 6 18 L 0 25\" fill=\"none\" style=\"stroke:rgb(255.0, 0.0, 81.08083606031792);stroke-width:2\" />  </svg></g><g transform=\"translate(0,0)\">  <svg x=\"15.340037661488145%\" y=\"40\" height=\"18\" overflow=\"visible\" width=\"30\">    <path d=\"M 0 -9 l 6 18 L 0 25\" fill=\"none\" style=\"stroke:rgb(255.0, 0.0, 81.08083606031792);stroke-width:2\" />  </svg></g><g transform=\"translate(2,0)\">  <svg x=\"15.340037661488145%\" y=\"40\" height=\"18\" overflow=\"visible\" width=\"30\">    <path d=\"M 0 -9 l 6 18 L 0 25\" fill=\"none\" style=\"stroke:rgb(255.0, 0.0, 81.08083606031792);stroke-width:2\" />  </svg></g><g transform=\"translate(4,0)\">  <svg x=\"15.340037661488145%\" y=\"40\" height=\"18\" overflow=\"visible\" width=\"30\">    <path d=\"M 0 -9 l 6 18 L 0 25\" fill=\"none\" style=\"stroke:rgb(255.0, 0.0, 81.08083606031792);stroke-width:2\" />  </svg></g><g transform=\"translate(6,0)\">  <svg x=\"15.340037661488145%\" y=\"40\" height=\"18\" overflow=\"visible\" width=\"30\">    <path d=\"M 0 -9 l 6 18 L 0 25\" fill=\"none\" style=\"stroke:rgb(255.0, 0.0, 81.08083606031792);stroke-width:2\" />  </svg></g><g transform=\"translate(-8,0)\">  <svg x=\"15.340037661488145%\" y=\"40\" height=\"18\" overflow=\"visible\" width=\"30\">    <path d=\"M 0 -9 l 6 18 L 0 25\" fill=\"none\" style=\"stroke:rgb(255.0, 0.0, 81.08083606031792);stroke-width:2\" />  </svg></g><g transform=\"translate(-6,0)\">  <svg x=\"15.340037661488145%\" y=\"40\" height=\"18\" overflow=\"visible\" width=\"30\">    <path d=\"M 0 -9 l 6 18 L 0 25\" fill=\"none\" style=\"stroke:rgb(255.0, 0.0, 81.08083606031792);stroke-width:2\" />  </svg></g><g transform=\"translate(-4,0)\">  <svg x=\"15.340037661488145%\" y=\"40\" height=\"18\" overflow=\"visible\" width=\"30\">    <path d=\"M 0 -9 l 6 18 L 0 25\" fill=\"none\" style=\"stroke:rgb(255.0, 0.0, 81.08083606031792);stroke-width:2\" />  </svg></g><g transform=\"translate(-2,0)\">  <svg x=\"15.340037661488145%\" y=\"40\" height=\"18\" overflow=\"visible\" width=\"30\">    <path d=\"M 0 -9 l 6 18 L 0 25\" fill=\"none\" style=\"stroke:rgb(255.0, 0.0, 81.08083606031792);stroke-width:2\" />  </svg></g><g transform=\"translate(0,0)\">  <svg x=\"12.985885294309956%\" y=\"40\" height=\"18\" overflow=\"visible\" width=\"30\">    <path d=\"M 0 -9 l 6 18 L 0 25\" fill=\"none\" style=\"stroke:rgb(255.0, 0.0, 81.08083606031792);stroke-width:2\" />  </svg></g><g transform=\"translate(2,0)\">  <svg x=\"12.985885294309956%\" y=\"40\" height=\"18\" overflow=\"visible\" width=\"30\">    <path d=\"M 0 -9 l 6 18 L 0 25\" fill=\"none\" style=\"stroke:rgb(255.0, 0.0, 81.08083606031792);stroke-width:2\" />  </svg></g><g transform=\"translate(4,0)\">  <svg x=\"12.985885294309956%\" y=\"40\" height=\"18\" overflow=\"visible\" width=\"30\">    <path d=\"M 0 -9 l 6 18 L 0 25\" fill=\"none\" style=\"stroke:rgb(255.0, 0.0, 81.08083606031792);stroke-width:2\" />  </svg></g><g transform=\"translate(6,0)\">  <svg x=\"12.985885294309956%\" y=\"40\" height=\"18\" overflow=\"visible\" width=\"30\">    <path d=\"M 0 -9 l 6 18 L 0 25\" fill=\"none\" style=\"stroke:rgb(255.0, 0.0, 81.08083606031792);stroke-width:2\" />  </svg></g><g transform=\"translate(-8,0)\">  <svg x=\"12.985885294309956%\" y=\"40\" height=\"18\" overflow=\"visible\" width=\"30\">    <path d=\"M 0 -9 l 6 18 L 0 25\" fill=\"none\" style=\"stroke:rgb(255.0, 0.0, 81.08083606031792);stroke-width:2\" />  </svg></g><g transform=\"translate(-6,0)\">  <svg x=\"12.985885294309956%\" y=\"40\" height=\"18\" overflow=\"visible\" width=\"30\">    <path d=\"M 0 -9 l 6 18 L 0 25\" fill=\"none\" style=\"stroke:rgb(255.0, 0.0, 81.08083606031792);stroke-width:2\" />  </svg></g><g transform=\"translate(-4,0)\">  <svg x=\"12.985885294309956%\" y=\"40\" height=\"18\" overflow=\"visible\" width=\"30\">    <path d=\"M 0 -9 l 6 18 L 0 25\" fill=\"none\" style=\"stroke:rgb(255.0, 0.0, 81.08083606031792);stroke-width:2\" />  </svg></g><g transform=\"translate(-2,0)\">  <svg x=\"12.985885294309956%\" y=\"40\" height=\"18\" overflow=\"visible\" width=\"30\">    <path d=\"M 0 -9 l 6 18 L 0 25\" fill=\"none\" style=\"stroke:rgb(255.0, 0.0, 81.08083606031792);stroke-width:2\" />  </svg></g><g transform=\"translate(0,0)\">  <svg x=\"11.13888969771475%\" y=\"40\" height=\"18\" overflow=\"visible\" width=\"30\">    <path d=\"M 0 -9 l 6 18 L 0 25\" fill=\"none\" style=\"stroke:rgb(255.0, 0.0, 81.08083606031792);stroke-width:2\" />  </svg></g><g transform=\"translate(2,0)\">  <svg x=\"11.13888969771475%\" y=\"40\" height=\"18\" overflow=\"visible\" width=\"30\">    <path d=\"M 0 -9 l 6 18 L 0 25\" fill=\"none\" style=\"stroke:rgb(255.0, 0.0, 81.08083606031792);stroke-width:2\" />  </svg></g><g transform=\"translate(4,0)\">  <svg x=\"11.13888969771475%\" y=\"40\" height=\"18\" overflow=\"visible\" width=\"30\">    <path d=\"M 0 -9 l 6 18 L 0 25\" fill=\"none\" style=\"stroke:rgb(255.0, 0.0, 81.08083606031792);stroke-width:2\" />  </svg></g><g transform=\"translate(6,0)\">  <svg x=\"11.13888969771475%\" y=\"40\" height=\"18\" overflow=\"visible\" width=\"30\">    <path d=\"M 0 -9 l 6 18 L 0 25\" fill=\"none\" style=\"stroke:rgb(255.0, 0.0, 81.08083606031792);stroke-width:2\" />  </svg></g><g transform=\"translate(-8,0)\">  <svg x=\"11.13888969771475%\" y=\"40\" height=\"18\" overflow=\"visible\" width=\"30\">    <path d=\"M 0 -9 l 6 18 L 0 25\" fill=\"none\" style=\"stroke:rgb(255.0, 0.0, 81.08083606031792);stroke-width:2\" />  </svg></g><g transform=\"translate(-6,0)\">  <svg x=\"11.13888969771475%\" y=\"40\" height=\"18\" overflow=\"visible\" width=\"30\">    <path d=\"M 0 -9 l 6 18 L 0 25\" fill=\"none\" style=\"stroke:rgb(255.0, 0.0, 81.08083606031792);stroke-width:2\" />  </svg></g><g transform=\"translate(-4,0)\">  <svg x=\"11.13888969771475%\" y=\"40\" height=\"18\" overflow=\"visible\" width=\"30\">    <path d=\"M 0 -9 l 6 18 L 0 25\" fill=\"none\" style=\"stroke:rgb(255.0, 0.0, 81.08083606031792);stroke-width:2\" />  </svg></g><g transform=\"translate(-2,0)\">  <svg x=\"11.13888969771475%\" y=\"40\" height=\"18\" overflow=\"visible\" width=\"30\">    <path d=\"M 0 -9 l 6 18 L 0 25\" fill=\"none\" style=\"stroke:rgb(255.0, 0.0, 81.08083606031792);stroke-width:2\" />  </svg></g><g transform=\"translate(0,0)\">  <svg x=\"9.933373362142891%\" y=\"40\" height=\"18\" overflow=\"visible\" width=\"30\">    <path d=\"M 0 -9 l 6 18 L 0 25\" fill=\"none\" style=\"stroke:rgb(255.0, 0.0, 81.08083606031792);stroke-width:2\" />  </svg></g><g transform=\"translate(2,0)\">  <svg x=\"9.933373362142891%\" y=\"40\" height=\"18\" overflow=\"visible\" width=\"30\">    <path d=\"M 0 -9 l 6 18 L 0 25\" fill=\"none\" style=\"stroke:rgb(255.0, 0.0, 81.08083606031792);stroke-width:2\" />  </svg></g><g transform=\"translate(4,0)\">  <svg x=\"9.933373362142891%\" y=\"40\" height=\"18\" overflow=\"visible\" width=\"30\">    <path d=\"M 0 -9 l 6 18 L 0 25\" fill=\"none\" style=\"stroke:rgb(255.0, 0.0, 81.08083606031792);stroke-width:2\" />  </svg></g><g transform=\"translate(6,0)\">  <svg x=\"9.933373362142891%\" y=\"40\" height=\"18\" overflow=\"visible\" width=\"30\">    <path d=\"M 0 -9 l 6 18 L 0 25\" fill=\"none\" style=\"stroke:rgb(255.0, 0.0, 81.08083606031792);stroke-width:2\" />  </svg></g><g transform=\"translate(-8,0)\">  <svg x=\"9.933373362142891%\" y=\"40\" height=\"18\" overflow=\"visible\" width=\"30\">    <path d=\"M 0 -9 l 6 18 L 0 25\" fill=\"none\" style=\"stroke:rgb(255.0, 0.0, 81.08083606031792);stroke-width:2\" />  </svg></g><g transform=\"translate(-6,0)\">  <svg x=\"9.933373362142891%\" y=\"40\" height=\"18\" overflow=\"visible\" width=\"30\">    <path d=\"M 0 -9 l 6 18 L 0 25\" fill=\"none\" style=\"stroke:rgb(255.0, 0.0, 81.08083606031792);stroke-width:2\" />  </svg></g><g transform=\"translate(-4,0)\">  <svg x=\"9.933373362142891%\" y=\"40\" height=\"18\" overflow=\"visible\" width=\"30\">    <path d=\"M 0 -9 l 6 18 L 0 25\" fill=\"none\" style=\"stroke:rgb(255.0, 0.0, 81.08083606031792);stroke-width:2\" />  </svg></g><g transform=\"translate(-2,0)\">  <svg x=\"9.933373362142891%\" y=\"40\" height=\"18\" overflow=\"visible\" width=\"30\">    <path d=\"M 0 -9 l 6 18 L 0 25\" fill=\"none\" style=\"stroke:rgb(255.0, 0.0, 81.08083606031792);stroke-width:2\" />  </svg></g><g transform=\"translate(0,0)\">  <svg x=\"9.16172234601593%\" y=\"40\" height=\"18\" overflow=\"visible\" width=\"30\">    <path d=\"M 0 -9 l 6 18 L 0 25\" fill=\"none\" style=\"stroke:rgb(255.0, 0.0, 81.08083606031792);stroke-width:2\" />  </svg></g><g transform=\"translate(2,0)\">  <svg x=\"9.16172234601593%\" y=\"40\" height=\"18\" overflow=\"visible\" width=\"30\">    <path d=\"M 0 -9 l 6 18 L 0 25\" fill=\"none\" style=\"stroke:rgb(255.0, 0.0, 81.08083606031792);stroke-width:2\" />  </svg></g><g transform=\"translate(4,0)\">  <svg x=\"9.16172234601593%\" y=\"40\" height=\"18\" overflow=\"visible\" width=\"30\">    <path d=\"M 0 -9 l 6 18 L 0 25\" fill=\"none\" style=\"stroke:rgb(255.0, 0.0, 81.08083606031792);stroke-width:2\" />  </svg></g><g transform=\"translate(6,0)\">  <svg x=\"9.16172234601593%\" y=\"40\" height=\"18\" overflow=\"visible\" width=\"30\">    <path d=\"M 0 -9 l 6 18 L 0 25\" fill=\"none\" style=\"stroke:rgb(255.0, 0.0, 81.08083606031792);stroke-width:2\" />  </svg></g><g transform=\"translate(-8,0)\">  <svg x=\"9.16172234601593%\" y=\"40\" height=\"18\" overflow=\"visible\" width=\"30\">    <path d=\"M 0 -9 l 6 18 L 0 25\" fill=\"none\" style=\"stroke:rgb(255.0, 0.0, 81.08083606031792);stroke-width:2\" />  </svg></g><g transform=\"translate(-6,0)\">  <svg x=\"9.16172234601593%\" y=\"40\" height=\"18\" overflow=\"visible\" width=\"30\">    <path d=\"M 0 -9 l 6 18 L 0 25\" fill=\"none\" style=\"stroke:rgb(255.0, 0.0, 81.08083606031792);stroke-width:2\" />  </svg></g><g transform=\"translate(-4,0)\">  <svg x=\"9.16172234601593%\" y=\"40\" height=\"18\" overflow=\"visible\" width=\"30\">    <path d=\"M 0 -9 l 6 18 L 0 25\" fill=\"none\" style=\"stroke:rgb(255.0, 0.0, 81.08083606031792);stroke-width:2\" />  </svg></g><g transform=\"translate(-2,0)\">  <svg x=\"9.16172234601593%\" y=\"40\" height=\"18\" overflow=\"visible\" width=\"30\">    <path d=\"M 0 -9 l 6 18 L 0 25\" fill=\"none\" style=\"stroke:rgb(255.0, 0.0, 81.08083606031792);stroke-width:2\" />  </svg></g><g transform=\"translate(0,0)\">  <svg x=\"8.659980992062842%\" y=\"40\" height=\"18\" overflow=\"visible\" width=\"30\">    <path d=\"M 0 -9 l 6 18 L 0 25\" fill=\"none\" style=\"stroke:rgb(255.0, 0.0, 81.08083606031792);stroke-width:2\" />  </svg></g><g transform=\"translate(2,0)\">  <svg x=\"8.659980992062842%\" y=\"40\" height=\"18\" overflow=\"visible\" width=\"30\">    <path d=\"M 0 -9 l 6 18 L 0 25\" fill=\"none\" style=\"stroke:rgb(255.0, 0.0, 81.08083606031792);stroke-width:2\" />  </svg></g><g transform=\"translate(4,0)\">  <svg x=\"8.659980992062842%\" y=\"40\" height=\"18\" overflow=\"visible\" width=\"30\">    <path d=\"M 0 -9 l 6 18 L 0 25\" fill=\"none\" style=\"stroke:rgb(255.0, 0.0, 81.08083606031792);stroke-width:2\" />  </svg></g><g transform=\"translate(6,0)\">  <svg x=\"8.659980992062842%\" y=\"40\" height=\"18\" overflow=\"visible\" width=\"30\">    <path d=\"M 0 -9 l 6 18 L 0 25\" fill=\"none\" style=\"stroke:rgb(255.0, 0.0, 81.08083606031792);stroke-width:2\" />  </svg></g><g transform=\"translate(-8,0)\">  <svg x=\"8.659980992062842%\" y=\"40\" height=\"18\" overflow=\"visible\" width=\"30\">    <path d=\"M 0 -9 l 6 18 L 0 25\" fill=\"none\" style=\"stroke:rgb(255.0, 0.0, 81.08083606031792);stroke-width:2\" />  </svg></g><g transform=\"translate(-6,0)\">  <svg x=\"8.659980992062842%\" y=\"40\" height=\"18\" overflow=\"visible\" width=\"30\">    <path d=\"M 0 -9 l 6 18 L 0 25\" fill=\"none\" style=\"stroke:rgb(255.0, 0.0, 81.08083606031792);stroke-width:2\" />  </svg></g><g transform=\"translate(-4,0)\">  <svg x=\"8.659980992062842%\" y=\"40\" height=\"18\" overflow=\"visible\" width=\"30\">    <path d=\"M 0 -9 l 6 18 L 0 25\" fill=\"none\" style=\"stroke:rgb(255.0, 0.0, 81.08083606031792);stroke-width:2\" />  </svg></g><g transform=\"translate(-2,0)\">  <svg x=\"8.659980992062842%\" y=\"40\" height=\"18\" overflow=\"visible\" width=\"30\">    <path d=\"M 0 -9 l 6 18 L 0 25\" fill=\"none\" style=\"stroke:rgb(255.0, 0.0, 81.08083606031792);stroke-width:2\" />  </svg></g><rect transform=\"translate(-8,0)\" x=\"69.35658680588769%\" y=\"40\" width=\"8\" height=\"18\" style=\"fill:rgb(255.0, 0.0, 81.08083606031792)\"/><g transform=\"translate(-11.5,0)\">  <svg x=\"8.333333333333336%\" y=\"40\" height=\"18\" overflow=\"visible\" width=\"30\">    <path d=\"M 10 -9 l 6 18 L 10 25 L 0 25 L 0 -9\" fill=\"#ffffff\" style=\"stroke:rgb(255,255,255);stroke-width:2\" />  </svg></g><g transform=\"translate(-1.5,0)\">  <svg x=\"69.35658680588769%\" y=\"40\" height=\"18\" overflow=\"visible\" width=\"30\">    <path d=\"M 0 -9 l 6 18 L 0 25\" fill=\"none\" style=\"stroke:rgb(255, 195, 213);stroke-width:2\" />  </svg></g><rect x=\"56.033852059652396%\" y=\"40\" height=\"20\" width=\"13.322734746235291%\"      onmouseover=\"document.getElementById('_tp_gtsgayxedjudptkiojbw_ind_10').style.textDecoration = 'underline';document.getElementById('_fs_gtsgayxedjudptkiojbw_ind_10').style.opacity = 1;document.getElementById('_fb_gtsgayxedjudptkiojbw_ind_10').style.opacity = 1;\"      onmouseout=\"document.getElementById('_tp_gtsgayxedjudptkiojbw_ind_10').style.textDecoration = 'none';document.getElementById('_fs_gtsgayxedjudptkiojbw_ind_10').style.opacity = 0;document.getElementById('_fb_gtsgayxedjudptkiojbw_ind_10').style.opacity = 0;\" style=\"fill:rgb(0,0,0,0)\" /><g transform=\"translate(-1.5,0)\">  <svg x=\"56.033852059652396%\" y=\"40\" height=\"18\" overflow=\"visible\" width=\"30\">    <path d=\"M 0 -9 l 6 18 L 0 25\" fill=\"none\" style=\"stroke:rgb(255, 195, 213);stroke-width:2\" />  </svg></g><rect x=\"48.90093752520699%\" y=\"40\" height=\"20\" width=\"7.132914534445405%\"      onmouseover=\"document.getElementById('_tp_gtsgayxedjudptkiojbw_ind_2').style.textDecoration = 'underline';document.getElementById('_fs_gtsgayxedjudptkiojbw_ind_2').style.opacity = 1;document.getElementById('_fb_gtsgayxedjudptkiojbw_ind_2').style.opacity = 1;\"      onmouseout=\"document.getElementById('_tp_gtsgayxedjudptkiojbw_ind_2').style.textDecoration = 'none';document.getElementById('_fs_gtsgayxedjudptkiojbw_ind_2').style.opacity = 0;document.getElementById('_fb_gtsgayxedjudptkiojbw_ind_2').style.opacity = 0;\" style=\"fill:rgb(0,0,0,0)\" /><g transform=\"translate(-1.5,0)\">  <svg x=\"48.90093752520699%\" y=\"40\" height=\"18\" overflow=\"visible\" width=\"30\">    <path d=\"M 0 -9 l 6 18 L 0 25\" fill=\"none\" style=\"stroke:rgb(255, 195, 213);stroke-width:2\" />  </svg></g><rect x=\"42.88825004499585%\" y=\"40\" height=\"20\" width=\"6.012687480211142%\"      onmouseover=\"document.getElementById('_tp_gtsgayxedjudptkiojbw_ind_0').style.textDecoration = 'underline';document.getElementById('_fs_gtsgayxedjudptkiojbw_ind_0').style.opacity = 1;document.getElementById('_fb_gtsgayxedjudptkiojbw_ind_0').style.opacity = 1;\"      onmouseout=\"document.getElementById('_tp_gtsgayxedjudptkiojbw_ind_0').style.textDecoration = 'none';document.getElementById('_fs_gtsgayxedjudptkiojbw_ind_0').style.opacity = 0;document.getElementById('_fb_gtsgayxedjudptkiojbw_ind_0').style.opacity = 0;\" style=\"fill:rgb(0,0,0,0)\" /><g transform=\"translate(-1.5,0)\">  <svg x=\"42.88825004499585%\" y=\"40\" height=\"18\" overflow=\"visible\" width=\"30\">    <path d=\"M 0 -9 l 6 18 L 0 25\" fill=\"none\" style=\"stroke:rgb(255, 195, 213);stroke-width:2\" />  </svg></g><rect x=\"37.21461013001309%\" y=\"40\" height=\"20\" width=\"5.673639914982758%\"      onmouseover=\"document.getElementById('_tp_gtsgayxedjudptkiojbw_ind_11').style.textDecoration = 'underline';document.getElementById('_fs_gtsgayxedjudptkiojbw_ind_11').style.opacity = 1;document.getElementById('_fb_gtsgayxedjudptkiojbw_ind_11').style.opacity = 1;\"      onmouseout=\"document.getElementById('_tp_gtsgayxedjudptkiojbw_ind_11').style.textDecoration = 'none';document.getElementById('_fs_gtsgayxedjudptkiojbw_ind_11').style.opacity = 0;document.getElementById('_fb_gtsgayxedjudptkiojbw_ind_11').style.opacity = 0;\" style=\"fill:rgb(0,0,0,0)\" /><g transform=\"translate(-1.5,0)\">  <svg x=\"37.21461013001309%\" y=\"40\" height=\"18\" overflow=\"visible\" width=\"30\">    <path d=\"M 0 -9 l 6 18 L 0 25\" fill=\"none\" style=\"stroke:rgb(255, 195, 213);stroke-width:2\" />  </svg></g><rect x=\"32.28322831978498%\" y=\"40\" height=\"20\" width=\"4.93138181022811%\"      onmouseover=\"document.getElementById('_tp_gtsgayxedjudptkiojbw_ind_8').style.textDecoration = 'underline';document.getElementById('_fs_gtsgayxedjudptkiojbw_ind_8').style.opacity = 1;document.getElementById('_fb_gtsgayxedjudptkiojbw_ind_8').style.opacity = 1;\"      onmouseout=\"document.getElementById('_tp_gtsgayxedjudptkiojbw_ind_8').style.textDecoration = 'none';document.getElementById('_fs_gtsgayxedjudptkiojbw_ind_8').style.opacity = 0;document.getElementById('_fb_gtsgayxedjudptkiojbw_ind_8').style.opacity = 0;\" style=\"fill:rgb(0,0,0,0)\" /><g transform=\"translate(-1.5,0)\">  <svg x=\"32.28322831978498%\" y=\"40\" height=\"18\" overflow=\"visible\" width=\"30\">    <path d=\"M 0 -9 l 6 18 L 0 25\" fill=\"none\" style=\"stroke:rgb(255, 195, 213);stroke-width:2\" />  </svg></g><rect x=\"27.576252608305477%\" y=\"40\" height=\"20\" width=\"4.7069757114795046%\"      onmouseover=\"document.getElementById('_tp_gtsgayxedjudptkiojbw_ind_1').style.textDecoration = 'underline';document.getElementById('_fs_gtsgayxedjudptkiojbw_ind_1').style.opacity = 1;document.getElementById('_fb_gtsgayxedjudptkiojbw_ind_1').style.opacity = 1;\"      onmouseout=\"document.getElementById('_tp_gtsgayxedjudptkiojbw_ind_1').style.textDecoration = 'none';document.getElementById('_fs_gtsgayxedjudptkiojbw_ind_1').style.opacity = 0;document.getElementById('_fb_gtsgayxedjudptkiojbw_ind_1').style.opacity = 0;\" style=\"fill:rgb(0,0,0,0)\" /><g transform=\"translate(-1.5,0)\">  <svg x=\"27.576252608305477%\" y=\"40\" height=\"18\" overflow=\"visible\" width=\"30\">    <path d=\"M 0 -9 l 6 18 L 0 25\" fill=\"none\" style=\"stroke:rgb(255, 195, 213);stroke-width:2\" />  </svg></g><rect x=\"23.165993091063676%\" y=\"40\" height=\"20\" width=\"4.410259517241801%\"      onmouseover=\"document.getElementById('_tp_gtsgayxedjudptkiojbw_ind_23').style.textDecoration = 'underline';document.getElementById('_fs_gtsgayxedjudptkiojbw_ind_23').style.opacity = 1;document.getElementById('_fb_gtsgayxedjudptkiojbw_ind_23').style.opacity = 1;\"      onmouseout=\"document.getElementById('_tp_gtsgayxedjudptkiojbw_ind_23').style.textDecoration = 'none';document.getElementById('_fs_gtsgayxedjudptkiojbw_ind_23').style.opacity = 0;document.getElementById('_fb_gtsgayxedjudptkiojbw_ind_23').style.opacity = 0;\" style=\"fill:rgb(0,0,0,0)\" /><g transform=\"translate(-1.5,0)\">  <svg x=\"23.165993091063676%\" y=\"40\" height=\"18\" overflow=\"visible\" width=\"30\">    <path d=\"M 0 -9 l 6 18 L 0 25\" fill=\"none\" style=\"stroke:rgb(255, 195, 213);stroke-width:2\" />  </svg></g><rect x=\"20.48960307129161%\" y=\"40\" height=\"20\" width=\"2.6763900197720645%\"      onmouseover=\"document.getElementById('_tp_gtsgayxedjudptkiojbw_ind_3').style.textDecoration = 'underline';document.getElementById('_fs_gtsgayxedjudptkiojbw_ind_3').style.opacity = 1;document.getElementById('_fb_gtsgayxedjudptkiojbw_ind_3').style.opacity = 1;\"      onmouseout=\"document.getElementById('_tp_gtsgayxedjudptkiojbw_ind_3').style.textDecoration = 'none';document.getElementById('_fs_gtsgayxedjudptkiojbw_ind_3').style.opacity = 0;document.getElementById('_fb_gtsgayxedjudptkiojbw_ind_3').style.opacity = 0;\" style=\"fill:rgb(0,0,0,0)\" /><g transform=\"translate(-1.5,0)\">  <svg x=\"20.48960307129161%\" y=\"40\" height=\"18\" overflow=\"visible\" width=\"30\">    <path d=\"M 0 -9 l 6 18 L 0 25\" fill=\"none\" style=\"stroke:rgb(255, 195, 213);stroke-width:2\" />  </svg></g><rect x=\"17.907076288379738%\" y=\"40\" height=\"20\" width=\"2.5825267829118737%\"      onmouseover=\"document.getElementById('_tp_gtsgayxedjudptkiojbw_ind_5').style.textDecoration = 'underline';document.getElementById('_fs_gtsgayxedjudptkiojbw_ind_5').style.opacity = 1;document.getElementById('_fb_gtsgayxedjudptkiojbw_ind_5').style.opacity = 1;\"      onmouseout=\"document.getElementById('_tp_gtsgayxedjudptkiojbw_ind_5').style.textDecoration = 'none';document.getElementById('_fs_gtsgayxedjudptkiojbw_ind_5').style.opacity = 0;document.getElementById('_fb_gtsgayxedjudptkiojbw_ind_5').style.opacity = 0;\" style=\"fill:rgb(0,0,0,0)\" /><g transform=\"translate(-1.5,0)\">  <svg x=\"17.907076288379738%\" y=\"40\" height=\"18\" overflow=\"visible\" width=\"30\">    <path d=\"M 0 -9 l 6 18 L 0 25\" fill=\"none\" style=\"stroke:rgb(255, 195, 213);stroke-width:2\" />  </svg></g><rect x=\"15.340037661488145%\" y=\"40\" height=\"20\" width=\"2.567038626891593%\"      onmouseover=\"document.getElementById('_tp_gtsgayxedjudptkiojbw_ind_21').style.textDecoration = 'underline';document.getElementById('_fs_gtsgayxedjudptkiojbw_ind_21').style.opacity = 1;document.getElementById('_fb_gtsgayxedjudptkiojbw_ind_21').style.opacity = 1;\"      onmouseout=\"document.getElementById('_tp_gtsgayxedjudptkiojbw_ind_21').style.textDecoration = 'none';document.getElementById('_fs_gtsgayxedjudptkiojbw_ind_21').style.opacity = 0;document.getElementById('_fb_gtsgayxedjudptkiojbw_ind_21').style.opacity = 0;\" style=\"fill:rgb(0,0,0,0)\" /><g transform=\"translate(-1.5,0)\">  <svg x=\"15.340037661488145%\" y=\"40\" height=\"18\" overflow=\"visible\" width=\"30\">    <path d=\"M 0 -9 l 6 18 L 0 25\" fill=\"none\" style=\"stroke:rgb(255, 195, 213);stroke-width:2\" />  </svg></g><rect x=\"12.985885294309956%\" y=\"40\" height=\"20\" width=\"2.354152367178189%\"      onmouseover=\"document.getElementById('_tp_gtsgayxedjudptkiojbw_ind_14').style.textDecoration = 'underline';document.getElementById('_fs_gtsgayxedjudptkiojbw_ind_14').style.opacity = 1;document.getElementById('_fb_gtsgayxedjudptkiojbw_ind_14').style.opacity = 1;\"      onmouseout=\"document.getElementById('_tp_gtsgayxedjudptkiojbw_ind_14').style.textDecoration = 'none';document.getElementById('_fs_gtsgayxedjudptkiojbw_ind_14').style.opacity = 0;document.getElementById('_fb_gtsgayxedjudptkiojbw_ind_14').style.opacity = 0;\" style=\"fill:rgb(0,0,0,0)\" /><g transform=\"translate(-1.5,0)\">  <svg x=\"12.985885294309956%\" y=\"40\" height=\"18\" overflow=\"visible\" width=\"30\">    <path d=\"M 0 -9 l 6 18 L 0 25\" fill=\"none\" style=\"stroke:rgb(255, 195, 213);stroke-width:2\" />  </svg></g><rect x=\"11.13888969771475%\" y=\"40\" height=\"20\" width=\"1.846995596595205%\"      onmouseover=\"document.getElementById('_tp_gtsgayxedjudptkiojbw_ind_24').style.textDecoration = 'underline';document.getElementById('_fs_gtsgayxedjudptkiojbw_ind_24').style.opacity = 1;document.getElementById('_fb_gtsgayxedjudptkiojbw_ind_24').style.opacity = 1;\"      onmouseout=\"document.getElementById('_tp_gtsgayxedjudptkiojbw_ind_24').style.textDecoration = 'none';document.getElementById('_fs_gtsgayxedjudptkiojbw_ind_24').style.opacity = 0;document.getElementById('_fb_gtsgayxedjudptkiojbw_ind_24').style.opacity = 0;\" style=\"fill:rgb(0,0,0,0)\" /><g transform=\"translate(-1.5,0)\">  <svg x=\"11.13888969771475%\" y=\"40\" height=\"18\" overflow=\"visible\" width=\"30\">    <path d=\"M 0 -9 l 6 18 L 0 25\" fill=\"none\" style=\"stroke:rgb(255, 195, 213);stroke-width:2\" />  </svg></g><rect x=\"9.933373362142891%\" y=\"40\" height=\"20\" width=\"1.2055163355718594%\"      onmouseover=\"document.getElementById('_tp_gtsgayxedjudptkiojbw_ind_25').style.textDecoration = 'underline';document.getElementById('_fs_gtsgayxedjudptkiojbw_ind_25').style.opacity = 1;document.getElementById('_fb_gtsgayxedjudptkiojbw_ind_25').style.opacity = 1;\"      onmouseout=\"document.getElementById('_tp_gtsgayxedjudptkiojbw_ind_25').style.textDecoration = 'none';document.getElementById('_fs_gtsgayxedjudptkiojbw_ind_25').style.opacity = 0;document.getElementById('_fb_gtsgayxedjudptkiojbw_ind_25').style.opacity = 0;\" style=\"fill:rgb(0,0,0,0)\" /><g transform=\"translate(-1.5,0)\">  <svg x=\"9.933373362142891%\" y=\"40\" height=\"18\" overflow=\"visible\" width=\"30\">    <path d=\"M 0 -9 l 6 18 L 0 25\" fill=\"none\" style=\"stroke:rgb(255, 195, 213);stroke-width:2\" />  </svg></g><rect x=\"9.16172234601593%\" y=\"40\" height=\"20\" width=\"0.7716510161269614%\"      onmouseover=\"document.getElementById('_tp_gtsgayxedjudptkiojbw_ind_12').style.textDecoration = 'underline';document.getElementById('_fs_gtsgayxedjudptkiojbw_ind_12').style.opacity = 1;document.getElementById('_fb_gtsgayxedjudptkiojbw_ind_12').style.opacity = 1;\"      onmouseout=\"document.getElementById('_tp_gtsgayxedjudptkiojbw_ind_12').style.textDecoration = 'none';document.getElementById('_fs_gtsgayxedjudptkiojbw_ind_12').style.opacity = 0;document.getElementById('_fb_gtsgayxedjudptkiojbw_ind_12').style.opacity = 0;\" style=\"fill:rgb(0,0,0,0)\" /><g transform=\"translate(-1.5,0)\">  <svg x=\"9.16172234601593%\" y=\"40\" height=\"18\" overflow=\"visible\" width=\"30\">    <path d=\"M 0 -9 l 6 18 L 0 25\" fill=\"none\" style=\"stroke:rgb(255, 195, 213);stroke-width:2\" />  </svg></g><rect x=\"8.659980992062842%\" y=\"40\" height=\"20\" width=\"0.5017413539530882%\"      onmouseover=\"document.getElementById('_tp_gtsgayxedjudptkiojbw_ind_15').style.textDecoration = 'underline';document.getElementById('_fs_gtsgayxedjudptkiojbw_ind_15').style.opacity = 1;document.getElementById('_fb_gtsgayxedjudptkiojbw_ind_15').style.opacity = 1;\"      onmouseout=\"document.getElementById('_tp_gtsgayxedjudptkiojbw_ind_15').style.textDecoration = 'none';document.getElementById('_fs_gtsgayxedjudptkiojbw_ind_15').style.opacity = 0;document.getElementById('_fb_gtsgayxedjudptkiojbw_ind_15').style.opacity = 0;\" style=\"fill:rgb(0,0,0,0)\" /><rect x=\"8.333333333333336%\" y=\"40\" height=\"20\" width=\"0.32664765872950596%\"      onmouseover=\"document.getElementById('_tp_gtsgayxedjudptkiojbw_ind_17').style.textDecoration = 'underline';document.getElementById('_fs_gtsgayxedjudptkiojbw_ind_17').style.opacity = 1;document.getElementById('_fb_gtsgayxedjudptkiojbw_ind_17').style.opacity = 1;\"      onmouseout=\"document.getElementById('_tp_gtsgayxedjudptkiojbw_ind_17').style.textDecoration = 'none';document.getElementById('_fs_gtsgayxedjudptkiojbw_ind_17').style.opacity = 0;document.getElementById('_fb_gtsgayxedjudptkiojbw_ind_17').style.opacity = 0;\" style=\"fill:rgb(0,0,0,0)\" /><rect x=\"69.35658680588769%\" width=\"22.31007986077899%\" y=\"40\" height=\"18\" style=\"fill:rgb(0.0, 138.56128015770724, 250.76166088685727); stroke-width:0; stroke:rgb(0,0,0)\" /><line x1=\"69.35658680588769%\" x2=\"74.74170780847575%\" y1=\"60\" y2=\"60\" id=\"_fb_gtsgayxedjudptkiojbw_ind_9\" style=\"stroke:rgb(0.0, 138.56128015770724, 250.76166088685727);stroke-width:2; opacity: 0\"/><text x=\"72.04914730718173%\" y=\"71\" font-size=\"12px\" fill=\"rgb(0.0, 138.56128015770724, 250.76166088685727)\" id=\"_fs_gtsgayxedjudptkiojbw_ind_9\" style=\"opacity: 0\" dominant-baseline=\"middle\" text-anchor=\"middle\">-0.086</text><svg x=\"69.35658680588769%\" y=\"40\" height=\"20\" width=\"5.385121002588065%\">  <svg x=\"0\" y=\"0\" width=\"100%\" height=\"100%\">    <text x=\"50%\" y=\"9\" font-size=\"12px\" fill=\"rgb(255,255,255)\" dominant-baseline=\"middle\" text-anchor=\"middle\">against</text>  </svg></svg><line x1=\"74.74170780847575%\" x2=\"78.66477449454707%\" y1=\"60\" y2=\"60\" id=\"_fb_gtsgayxedjudptkiojbw_ind_7\" style=\"stroke:rgb(0.0, 138.56128015770724, 250.76166088685727);stroke-width:2; opacity: 0\"/><text x=\"76.7032411515114%\" y=\"71\" font-size=\"12px\" fill=\"rgb(0.0, 138.56128015770724, 250.76166088685727)\" id=\"_fs_gtsgayxedjudptkiojbw_ind_7\" style=\"opacity: 0\" dominant-baseline=\"middle\" text-anchor=\"middle\">-0.062</text><svg x=\"74.74170780847575%\" y=\"40\" height=\"20\" width=\"3.923066686071323%\">  <svg x=\"0\" y=\"0\" width=\"100%\" height=\"100%\">    <text x=\"50%\" y=\"9\" font-size=\"12px\" fill=\"rgb(255,255,255)\" dominant-baseline=\"middle\" text-anchor=\"middle\">defend</text>  </svg></svg><line x1=\"78.66477449454707%\" x2=\"82.48792936609723%\" y1=\"60\" y2=\"60\" id=\"_fb_gtsgayxedjudptkiojbw_ind_19\" style=\"stroke:rgb(0.0, 138.56128015770724, 250.76166088685727);stroke-width:2; opacity: 0\"/><text x=\"80.57635193032215%\" y=\"71\" font-size=\"12px\" fill=\"rgb(0.0, 138.56128015770724, 250.76166088685727)\" id=\"_fs_gtsgayxedjudptkiojbw_ind_19\" style=\"opacity: 0\" dominant-baseline=\"middle\" text-anchor=\"middle\">-0.061</text><svg x=\"78.66477449454707%\" y=\"40\" height=\"20\" width=\"3.823154871550159%\">  <svg x=\"0\" y=\"0\" width=\"100%\" height=\"100%\">    <text x=\"50%\" y=\"9\" font-size=\"12px\" fill=\"rgb(255,255,255)\" dominant-baseline=\"middle\" text-anchor=\"middle\">votes</text>  </svg></svg><line x1=\"82.48792936609723%\" x2=\"85.69561819688421%\" y1=\"60\" y2=\"60\" id=\"_fb_gtsgayxedjudptkiojbw_ind_20\" style=\"stroke:rgb(0.0, 138.56128015770724, 250.76166088685727);stroke-width:2; opacity: 0\"/><text x=\"84.09177378149073%\" y=\"71\" font-size=\"12px\" fill=\"rgb(0.0, 138.56128015770724, 250.76166088685727)\" id=\"_fs_gtsgayxedjudptkiojbw_ind_20\" style=\"opacity: 0\" dominant-baseline=\"middle\" text-anchor=\"middle\">-0.051</text><svg x=\"82.48792936609723%\" y=\"40\" height=\"20\" width=\"3.207688830786978%\">  <svg x=\"0\" y=\"0\" width=\"100%\" height=\"100%\">    <text x=\"50%\" y=\"9\" font-size=\"12px\" fill=\"rgb(255,255,255)\" dominant-baseline=\"middle\" text-anchor=\"middle\">by</text>  </svg></svg><line x1=\"85.69561819688421%\" x2=\"87.530761698725%\" y1=\"60\" y2=\"60\" id=\"_fb_gtsgayxedjudptkiojbw_ind_22\" style=\"stroke:rgb(0.0, 138.56128015770724, 250.76166088685727);stroke-width:2; opacity: 0\"/><text x=\"86.61318994780461%\" y=\"71\" font-size=\"12px\" fill=\"rgb(0.0, 138.56128015770724, 250.76166088685727)\" id=\"_fs_gtsgayxedjudptkiojbw_ind_22\" style=\"opacity: 0\" dominant-baseline=\"middle\" text-anchor=\"middle\">-0.029</text><svg x=\"85.69561819688421%\" y=\"40\" height=\"20\" width=\"1.8351435018407898%\">  <svg x=\"0\" y=\"0\" width=\"100%\" height=\"100%\">    <text x=\"50%\" y=\"9\" font-size=\"12px\" fill=\"rgb(255,255,255)\" dominant-baseline=\"middle\" text-anchor=\"middle\">nations</text>  </svg></svg><line x1=\"87.530761698725%\" x2=\"88.99006198450247%\" y1=\"60\" y2=\"60\" id=\"_fb_gtsgayxedjudptkiojbw_ind_6\" style=\"stroke:rgb(0.0, 138.56128015770724, 250.76166088685727);stroke-width:2; opacity: 0\"/><text x=\"88.26041184161375%\" y=\"71\" font-size=\"12px\" fill=\"rgb(0.0, 138.56128015770724, 250.76166088685727)\" id=\"_fs_gtsgayxedjudptkiojbw_ind_6\" style=\"opacity: 0\" dominant-baseline=\"middle\" text-anchor=\"middle\">-0.023</text><svg x=\"87.530761698725%\" y=\"40\" height=\"20\" width=\"1.4593002857774735%\">  <svg x=\"0\" y=\"0\" width=\"100%\" height=\"100%\">    <text x=\"50%\" y=\"9\" font-size=\"12px\" fill=\"rgb(255,255,255)\" dominant-baseline=\"middle\" text-anchor=\"middle\">to</text>  </svg></svg><line x1=\"88.99006198450247%\" x2=\"90.32710892489098%\" y1=\"60\" y2=\"60\" id=\"_fb_gtsgayxedjudptkiojbw_ind_4\" style=\"stroke:rgb(0.0, 138.56128015770724, 250.76166088685727);stroke-width:2; opacity: 0\"/><text x=\"89.65858545469672%\" y=\"71\" font-size=\"12px\" fill=\"rgb(0.0, 138.56128015770724, 250.76166088685727)\" id=\"_fs_gtsgayxedjudptkiojbw_ind_4\" style=\"opacity: 0\" dominant-baseline=\"middle\" text-anchor=\"middle\">-0.021</text><svg x=\"88.99006198450247%\" y=\"40\" height=\"20\" width=\"1.337046940388504%\">  <svg x=\"0\" y=\"0\" width=\"100%\" height=\"100%\">    <text x=\"50%\" y=\"9\" font-size=\"12px\" fill=\"rgb(255,255,255)\" dominant-baseline=\"middle\" text-anchor=\"middle\">only</text>  </svg></svg><line x1=\"90.32710892489098%\" x2=\"91.26449805939428%\" y1=\"60\" y2=\"60\" id=\"_fb_gtsgayxedjudptkiojbw_ind_18\" style=\"stroke:rgb(0.0, 138.56128015770724, 250.76166088685727);stroke-width:2; opacity: 0\"/><text x=\"90.79580349214262%\" y=\"71\" font-size=\"12px\" fill=\"rgb(0.0, 138.56128015770724, 250.76166088685727)\" id=\"_fs_gtsgayxedjudptkiojbw_ind_18\" style=\"opacity: 0\" dominant-baseline=\"middle\" text-anchor=\"middle\">-0.015</text><svg x=\"90.32710892489098%\" y=\"40\" height=\"20\" width=\"0.9373891345033059%\">  <svg x=\"0\" y=\"0\" width=\"100%\" height=\"100%\">    <text x=\"50%\" y=\"9\" font-size=\"12px\" fill=\"rgb(255,255,255)\" dominant-baseline=\"middle\" text-anchor=\"middle\">un</text>  </svg></svg><line x1=\"91.26449805939428%\" x2=\"91.53148023810773%\" y1=\"60\" y2=\"60\" id=\"_fb_gtsgayxedjudptkiojbw_ind_13\" style=\"stroke:rgb(0.0, 138.56128015770724, 250.76166088685727);stroke-width:2; opacity: 0\"/><text x=\"91.39798914875101%\" y=\"71\" font-size=\"12px\" fill=\"rgb(0.0, 138.56128015770724, 250.76166088685727)\" id=\"_fs_gtsgayxedjudptkiojbw_ind_13\" style=\"opacity: 0\" dominant-baseline=\"middle\" text-anchor=\"middle\">-0.004</text><svg x=\"91.26449805939428%\" y=\"40\" height=\"20\" width=\"0.2669821787134481%\">  <svg x=\"0\" y=\"0\" width=\"100%\" height=\"100%\">    <text x=\"50%\" y=\"9\" font-size=\"12px\" fill=\"rgb(255,255,255)\" dominant-baseline=\"middle\" text-anchor=\"middle\">to</text>  </svg></svg><line x1=\"91.53148023810773%\" x2=\"91.66666666666667%\" y1=\"60\" y2=\"60\" id=\"_fb_gtsgayxedjudptkiojbw_ind_16\" style=\"stroke:rgb(0.0, 138.56128015770724, 250.76166088685727);stroke-width:2; opacity: 0\"/><text x=\"91.5990734523872%\" y=\"71\" font-size=\"12px\" fill=\"rgb(0.0, 138.56128015770724, 250.76166088685727)\" id=\"_fs_gtsgayxedjudptkiojbw_ind_16\" style=\"opacity: 0\" dominant-baseline=\"middle\" text-anchor=\"middle\">-0.002</text><svg x=\"91.53148023810773%\" y=\"40\" height=\"20\" width=\"0.1351864285589386%\">  <svg x=\"0\" y=\"0\" width=\"100%\" height=\"100%\">    <text x=\"50%\" y=\"9\" font-size=\"12px\" fill=\"rgb(255,255,255)\" dominant-baseline=\"middle\" text-anchor=\"middle\">out</text>  </svg></svg><g transform=\"translate(-8,0)\">  <svg x=\"74.74170780847575%\" y=\"40\" height=\"18\" overflow=\"visible\" width=\"30\">    <path d=\"M 8 -9 l -6 18 L 8 25\" fill=\"none\" style=\"stroke:rgb(0.0, 138.56128015770724, 250.76166088685727);stroke-width:2\" />  </svg></g><g transform=\"translate(-10,0)\">  <svg x=\"74.74170780847575%\" y=\"40\" height=\"18\" overflow=\"visible\" width=\"30\">    <path d=\"M 8 -9 l -6 18 L 8 25\" fill=\"none\" style=\"stroke:rgb(0.0, 138.56128015770724, 250.76166088685727);stroke-width:2\" />  </svg></g><g transform=\"translate(-12,0)\">  <svg x=\"74.74170780847575%\" y=\"40\" height=\"18\" overflow=\"visible\" width=\"30\">    <path d=\"M 8 -9 l -6 18 L 8 25\" fill=\"none\" style=\"stroke:rgb(0.0, 138.56128015770724, 250.76166088685727);stroke-width:2\" />  </svg></g><g transform=\"translate(-14,0)\">  <svg x=\"74.74170780847575%\" y=\"40\" height=\"18\" overflow=\"visible\" width=\"30\">    <path d=\"M 8 -9 l -6 18 L 8 25\" fill=\"none\" style=\"stroke:rgb(0.0, 138.56128015770724, 250.76166088685727);stroke-width:2\" />  </svg></g><g transform=\"translate(2,0)\">  <svg x=\"74.74170780847575%\" y=\"40\" height=\"18\" overflow=\"visible\" width=\"30\">    <path d=\"M 8 -9 l -6 18 L 8 25\" fill=\"none\" style=\"stroke:rgb(0.0, 138.56128015770724, 250.76166088685727);stroke-width:2\" />  </svg></g><g transform=\"translate(0,0)\">  <svg x=\"74.74170780847575%\" y=\"40\" height=\"18\" overflow=\"visible\" width=\"30\">    <path d=\"M 8 -9 l -6 18 L 8 25\" fill=\"none\" style=\"stroke:rgb(0.0, 138.56128015770724, 250.76166088685727);stroke-width:2\" />  </svg></g><g transform=\"translate(-2,0)\">  <svg x=\"74.74170780847575%\" y=\"40\" height=\"18\" overflow=\"visible\" width=\"30\">    <path d=\"M 8 -9 l -6 18 L 8 25\" fill=\"none\" style=\"stroke:rgb(0.0, 138.56128015770724, 250.76166088685727);stroke-width:2\" />  </svg></g><g transform=\"translate(-4,0)\">  <svg x=\"74.74170780847575%\" y=\"40\" height=\"18\" overflow=\"visible\" width=\"30\">    <path d=\"M 8 -9 l -6 18 L 8 25\" fill=\"none\" style=\"stroke:rgb(0.0, 138.56128015770724, 250.76166088685727);stroke-width:2\" />  </svg></g><g transform=\"translate(-8,0)\">  <svg x=\"78.66477449454707%\" y=\"40\" height=\"18\" overflow=\"visible\" width=\"30\">    <path d=\"M 8 -9 l -6 18 L 8 25\" fill=\"none\" style=\"stroke:rgb(0.0, 138.56128015770724, 250.76166088685727);stroke-width:2\" />  </svg></g><g transform=\"translate(-10,0)\">  <svg x=\"78.66477449454707%\" y=\"40\" height=\"18\" overflow=\"visible\" width=\"30\">    <path d=\"M 8 -9 l -6 18 L 8 25\" fill=\"none\" style=\"stroke:rgb(0.0, 138.56128015770724, 250.76166088685727);stroke-width:2\" />  </svg></g><g transform=\"translate(-12,0)\">  <svg x=\"78.66477449454707%\" y=\"40\" height=\"18\" overflow=\"visible\" width=\"30\">    <path d=\"M 8 -9 l -6 18 L 8 25\" fill=\"none\" style=\"stroke:rgb(0.0, 138.56128015770724, 250.76166088685727);stroke-width:2\" />  </svg></g><g transform=\"translate(-14,0)\">  <svg x=\"78.66477449454707%\" y=\"40\" height=\"18\" overflow=\"visible\" width=\"30\">    <path d=\"M 8 -9 l -6 18 L 8 25\" fill=\"none\" style=\"stroke:rgb(0.0, 138.56128015770724, 250.76166088685727);stroke-width:2\" />  </svg></g><g transform=\"translate(2,0)\">  <svg x=\"78.66477449454707%\" y=\"40\" height=\"18\" overflow=\"visible\" width=\"30\">    <path d=\"M 8 -9 l -6 18 L 8 25\" fill=\"none\" style=\"stroke:rgb(0.0, 138.56128015770724, 250.76166088685727);stroke-width:2\" />  </svg></g><g transform=\"translate(0,0)\">  <svg x=\"78.66477449454707%\" y=\"40\" height=\"18\" overflow=\"visible\" width=\"30\">    <path d=\"M 8 -9 l -6 18 L 8 25\" fill=\"none\" style=\"stroke:rgb(0.0, 138.56128015770724, 250.76166088685727);stroke-width:2\" />  </svg></g><g transform=\"translate(-2,0)\">  <svg x=\"78.66477449454707%\" y=\"40\" height=\"18\" overflow=\"visible\" width=\"30\">    <path d=\"M 8 -9 l -6 18 L 8 25\" fill=\"none\" style=\"stroke:rgb(0.0, 138.56128015770724, 250.76166088685727);stroke-width:2\" />  </svg></g><g transform=\"translate(-4,0)\">  <svg x=\"78.66477449454707%\" y=\"40\" height=\"18\" overflow=\"visible\" width=\"30\">    <path d=\"M 8 -9 l -6 18 L 8 25\" fill=\"none\" style=\"stroke:rgb(0.0, 138.56128015770724, 250.76166088685727);stroke-width:2\" />  </svg></g><g transform=\"translate(-8,0)\">  <svg x=\"82.48792936609723%\" y=\"40\" height=\"18\" overflow=\"visible\" width=\"30\">    <path d=\"M 8 -9 l -6 18 L 8 25\" fill=\"none\" style=\"stroke:rgb(0.0, 138.56128015770724, 250.76166088685727);stroke-width:2\" />  </svg></g><g transform=\"translate(-10,0)\">  <svg x=\"82.48792936609723%\" y=\"40\" height=\"18\" overflow=\"visible\" width=\"30\">    <path d=\"M 8 -9 l -6 18 L 8 25\" fill=\"none\" style=\"stroke:rgb(0.0, 138.56128015770724, 250.76166088685727);stroke-width:2\" />  </svg></g><g transform=\"translate(-12,0)\">  <svg x=\"82.48792936609723%\" y=\"40\" height=\"18\" overflow=\"visible\" width=\"30\">    <path d=\"M 8 -9 l -6 18 L 8 25\" fill=\"none\" style=\"stroke:rgb(0.0, 138.56128015770724, 250.76166088685727);stroke-width:2\" />  </svg></g><g transform=\"translate(-14,0)\">  <svg x=\"82.48792936609723%\" y=\"40\" height=\"18\" overflow=\"visible\" width=\"30\">    <path d=\"M 8 -9 l -6 18 L 8 25\" fill=\"none\" style=\"stroke:rgb(0.0, 138.56128015770724, 250.76166088685727);stroke-width:2\" />  </svg></g><g transform=\"translate(2,0)\">  <svg x=\"82.48792936609723%\" y=\"40\" height=\"18\" overflow=\"visible\" width=\"30\">    <path d=\"M 8 -9 l -6 18 L 8 25\" fill=\"none\" style=\"stroke:rgb(0.0, 138.56128015770724, 250.76166088685727);stroke-width:2\" />  </svg></g><g transform=\"translate(0,0)\">  <svg x=\"82.48792936609723%\" y=\"40\" height=\"18\" overflow=\"visible\" width=\"30\">    <path d=\"M 8 -9 l -6 18 L 8 25\" fill=\"none\" style=\"stroke:rgb(0.0, 138.56128015770724, 250.76166088685727);stroke-width:2\" />  </svg></g><g transform=\"translate(-2,0)\">  <svg x=\"82.48792936609723%\" y=\"40\" height=\"18\" overflow=\"visible\" width=\"30\">    <path d=\"M 8 -9 l -6 18 L 8 25\" fill=\"none\" style=\"stroke:rgb(0.0, 138.56128015770724, 250.76166088685727);stroke-width:2\" />  </svg></g><g transform=\"translate(-4,0)\">  <svg x=\"82.48792936609723%\" y=\"40\" height=\"18\" overflow=\"visible\" width=\"30\">    <path d=\"M 8 -9 l -6 18 L 8 25\" fill=\"none\" style=\"stroke:rgb(0.0, 138.56128015770724, 250.76166088685727);stroke-width:2\" />  </svg></g><g transform=\"translate(-8,0)\">  <svg x=\"85.69561819688421%\" y=\"40\" height=\"18\" overflow=\"visible\" width=\"30\">    <path d=\"M 8 -9 l -6 18 L 8 25\" fill=\"none\" style=\"stroke:rgb(0.0, 138.56128015770724, 250.76166088685727);stroke-width:2\" />  </svg></g><g transform=\"translate(-10,0)\">  <svg x=\"85.69561819688421%\" y=\"40\" height=\"18\" overflow=\"visible\" width=\"30\">    <path d=\"M 8 -9 l -6 18 L 8 25\" fill=\"none\" style=\"stroke:rgb(0.0, 138.56128015770724, 250.76166088685727);stroke-width:2\" />  </svg></g><g transform=\"translate(-12,0)\">  <svg x=\"85.69561819688421%\" y=\"40\" height=\"18\" overflow=\"visible\" width=\"30\">    <path d=\"M 8 -9 l -6 18 L 8 25\" fill=\"none\" style=\"stroke:rgb(0.0, 138.56128015770724, 250.76166088685727);stroke-width:2\" />  </svg></g><g transform=\"translate(-14,0)\">  <svg x=\"85.69561819688421%\" y=\"40\" height=\"18\" overflow=\"visible\" width=\"30\">    <path d=\"M 8 -9 l -6 18 L 8 25\" fill=\"none\" style=\"stroke:rgb(0.0, 138.56128015770724, 250.76166088685727);stroke-width:2\" />  </svg></g><g transform=\"translate(2,0)\">  <svg x=\"85.69561819688421%\" y=\"40\" height=\"18\" overflow=\"visible\" width=\"30\">    <path d=\"M 8 -9 l -6 18 L 8 25\" fill=\"none\" style=\"stroke:rgb(0.0, 138.56128015770724, 250.76166088685727);stroke-width:2\" />  </svg></g><g transform=\"translate(0,0)\">  <svg x=\"85.69561819688421%\" y=\"40\" height=\"18\" overflow=\"visible\" width=\"30\">    <path d=\"M 8 -9 l -6 18 L 8 25\" fill=\"none\" style=\"stroke:rgb(0.0, 138.56128015770724, 250.76166088685727);stroke-width:2\" />  </svg></g><g transform=\"translate(-2,0)\">  <svg x=\"85.69561819688421%\" y=\"40\" height=\"18\" overflow=\"visible\" width=\"30\">    <path d=\"M 8 -9 l -6 18 L 8 25\" fill=\"none\" style=\"stroke:rgb(0.0, 138.56128015770724, 250.76166088685727);stroke-width:2\" />  </svg></g><g transform=\"translate(-4,0)\">  <svg x=\"85.69561819688421%\" y=\"40\" height=\"18\" overflow=\"visible\" width=\"30\">    <path d=\"M 8 -9 l -6 18 L 8 25\" fill=\"none\" style=\"stroke:rgb(0.0, 138.56128015770724, 250.76166088685727);stroke-width:2\" />  </svg></g><g transform=\"translate(-8,0)\">  <svg x=\"87.530761698725%\" y=\"40\" height=\"18\" overflow=\"visible\" width=\"30\">    <path d=\"M 8 -9 l -6 18 L 8 25\" fill=\"none\" style=\"stroke:rgb(0.0, 138.56128015770724, 250.76166088685727);stroke-width:2\" />  </svg></g><g transform=\"translate(-10,0)\">  <svg x=\"87.530761698725%\" y=\"40\" height=\"18\" overflow=\"visible\" width=\"30\">    <path d=\"M 8 -9 l -6 18 L 8 25\" fill=\"none\" style=\"stroke:rgb(0.0, 138.56128015770724, 250.76166088685727);stroke-width:2\" />  </svg></g><g transform=\"translate(-12,0)\">  <svg x=\"87.530761698725%\" y=\"40\" height=\"18\" overflow=\"visible\" width=\"30\">    <path d=\"M 8 -9 l -6 18 L 8 25\" fill=\"none\" style=\"stroke:rgb(0.0, 138.56128015770724, 250.76166088685727);stroke-width:2\" />  </svg></g><g transform=\"translate(-14,0)\">  <svg x=\"87.530761698725%\" y=\"40\" height=\"18\" overflow=\"visible\" width=\"30\">    <path d=\"M 8 -9 l -6 18 L 8 25\" fill=\"none\" style=\"stroke:rgb(0.0, 138.56128015770724, 250.76166088685727);stroke-width:2\" />  </svg></g><g transform=\"translate(2,0)\">  <svg x=\"87.530761698725%\" y=\"40\" height=\"18\" overflow=\"visible\" width=\"30\">    <path d=\"M 8 -9 l -6 18 L 8 25\" fill=\"none\" style=\"stroke:rgb(0.0, 138.56128015770724, 250.76166088685727);stroke-width:2\" />  </svg></g><g transform=\"translate(0,0)\">  <svg x=\"87.530761698725%\" y=\"40\" height=\"18\" overflow=\"visible\" width=\"30\">    <path d=\"M 8 -9 l -6 18 L 8 25\" fill=\"none\" style=\"stroke:rgb(0.0, 138.56128015770724, 250.76166088685727);stroke-width:2\" />  </svg></g><g transform=\"translate(-2,0)\">  <svg x=\"87.530761698725%\" y=\"40\" height=\"18\" overflow=\"visible\" width=\"30\">    <path d=\"M 8 -9 l -6 18 L 8 25\" fill=\"none\" style=\"stroke:rgb(0.0, 138.56128015770724, 250.76166088685727);stroke-width:2\" />  </svg></g><g transform=\"translate(-4,0)\">  <svg x=\"87.530761698725%\" y=\"40\" height=\"18\" overflow=\"visible\" width=\"30\">    <path d=\"M 8 -9 l -6 18 L 8 25\" fill=\"none\" style=\"stroke:rgb(0.0, 138.56128015770724, 250.76166088685727);stroke-width:2\" />  </svg></g><g transform=\"translate(-8,0)\">  <svg x=\"88.99006198450247%\" y=\"40\" height=\"18\" overflow=\"visible\" width=\"30\">    <path d=\"M 8 -9 l -6 18 L 8 25\" fill=\"none\" style=\"stroke:rgb(0.0, 138.56128015770724, 250.76166088685727);stroke-width:2\" />  </svg></g><g transform=\"translate(-10,0)\">  <svg x=\"88.99006198450247%\" y=\"40\" height=\"18\" overflow=\"visible\" width=\"30\">    <path d=\"M 8 -9 l -6 18 L 8 25\" fill=\"none\" style=\"stroke:rgb(0.0, 138.56128015770724, 250.76166088685727);stroke-width:2\" />  </svg></g><g transform=\"translate(-12,0)\">  <svg x=\"88.99006198450247%\" y=\"40\" height=\"18\" overflow=\"visible\" width=\"30\">    <path d=\"M 8 -9 l -6 18 L 8 25\" fill=\"none\" style=\"stroke:rgb(0.0, 138.56128015770724, 250.76166088685727);stroke-width:2\" />  </svg></g><g transform=\"translate(-14,0)\">  <svg x=\"88.99006198450247%\" y=\"40\" height=\"18\" overflow=\"visible\" width=\"30\">    <path d=\"M 8 -9 l -6 18 L 8 25\" fill=\"none\" style=\"stroke:rgb(0.0, 138.56128015770724, 250.76166088685727);stroke-width:2\" />  </svg></g><g transform=\"translate(2,0)\">  <svg x=\"88.99006198450247%\" y=\"40\" height=\"18\" overflow=\"visible\" width=\"30\">    <path d=\"M 8 -9 l -6 18 L 8 25\" fill=\"none\" style=\"stroke:rgb(0.0, 138.56128015770724, 250.76166088685727);stroke-width:2\" />  </svg></g><g transform=\"translate(0,0)\">  <svg x=\"88.99006198450247%\" y=\"40\" height=\"18\" overflow=\"visible\" width=\"30\">    <path d=\"M 8 -9 l -6 18 L 8 25\" fill=\"none\" style=\"stroke:rgb(0.0, 138.56128015770724, 250.76166088685727);stroke-width:2\" />  </svg></g><g transform=\"translate(-2,0)\">  <svg x=\"88.99006198450247%\" y=\"40\" height=\"18\" overflow=\"visible\" width=\"30\">    <path d=\"M 8 -9 l -6 18 L 8 25\" fill=\"none\" style=\"stroke:rgb(0.0, 138.56128015770724, 250.76166088685727);stroke-width:2\" />  </svg></g><g transform=\"translate(-4,0)\">  <svg x=\"88.99006198450247%\" y=\"40\" height=\"18\" overflow=\"visible\" width=\"30\">    <path d=\"M 8 -9 l -6 18 L 8 25\" fill=\"none\" style=\"stroke:rgb(0.0, 138.56128015770724, 250.76166088685727);stroke-width:2\" />  </svg></g><g transform=\"translate(-8,0)\">  <svg x=\"90.32710892489098%\" y=\"40\" height=\"18\" overflow=\"visible\" width=\"30\">    <path d=\"M 8 -9 l -6 18 L 8 25\" fill=\"none\" style=\"stroke:rgb(0.0, 138.56128015770724, 250.76166088685727);stroke-width:2\" />  </svg></g><g transform=\"translate(-10,0)\">  <svg x=\"90.32710892489098%\" y=\"40\" height=\"18\" overflow=\"visible\" width=\"30\">    <path d=\"M 8 -9 l -6 18 L 8 25\" fill=\"none\" style=\"stroke:rgb(0.0, 138.56128015770724, 250.76166088685727);stroke-width:2\" />  </svg></g><g transform=\"translate(-12,0)\">  <svg x=\"90.32710892489098%\" y=\"40\" height=\"18\" overflow=\"visible\" width=\"30\">    <path d=\"M 8 -9 l -6 18 L 8 25\" fill=\"none\" style=\"stroke:rgb(0.0, 138.56128015770724, 250.76166088685727);stroke-width:2\" />  </svg></g><g transform=\"translate(-14,0)\">  <svg x=\"90.32710892489098%\" y=\"40\" height=\"18\" overflow=\"visible\" width=\"30\">    <path d=\"M 8 -9 l -6 18 L 8 25\" fill=\"none\" style=\"stroke:rgb(0.0, 138.56128015770724, 250.76166088685727);stroke-width:2\" />  </svg></g><g transform=\"translate(2,0)\">  <svg x=\"90.32710892489098%\" y=\"40\" height=\"18\" overflow=\"visible\" width=\"30\">    <path d=\"M 8 -9 l -6 18 L 8 25\" fill=\"none\" style=\"stroke:rgb(0.0, 138.56128015770724, 250.76166088685727);stroke-width:2\" />  </svg></g><g transform=\"translate(0,0)\">  <svg x=\"90.32710892489098%\" y=\"40\" height=\"18\" overflow=\"visible\" width=\"30\">    <path d=\"M 8 -9 l -6 18 L 8 25\" fill=\"none\" style=\"stroke:rgb(0.0, 138.56128015770724, 250.76166088685727);stroke-width:2\" />  </svg></g><g transform=\"translate(-2,0)\">  <svg x=\"90.32710892489098%\" y=\"40\" height=\"18\" overflow=\"visible\" width=\"30\">    <path d=\"M 8 -9 l -6 18 L 8 25\" fill=\"none\" style=\"stroke:rgb(0.0, 138.56128015770724, 250.76166088685727);stroke-width:2\" />  </svg></g><g transform=\"translate(-4,0)\">  <svg x=\"90.32710892489098%\" y=\"40\" height=\"18\" overflow=\"visible\" width=\"30\">    <path d=\"M 8 -9 l -6 18 L 8 25\" fill=\"none\" style=\"stroke:rgb(0.0, 138.56128015770724, 250.76166088685727);stroke-width:2\" />  </svg></g><g transform=\"translate(-8,0)\">  <svg x=\"91.26449805939428%\" y=\"40\" height=\"18\" overflow=\"visible\" width=\"30\">    <path d=\"M 8 -9 l -6 18 L 8 25\" fill=\"none\" style=\"stroke:rgb(0.0, 138.56128015770724, 250.76166088685727);stroke-width:2\" />  </svg></g><g transform=\"translate(-10,0)\">  <svg x=\"91.26449805939428%\" y=\"40\" height=\"18\" overflow=\"visible\" width=\"30\">    <path d=\"M 8 -9 l -6 18 L 8 25\" fill=\"none\" style=\"stroke:rgb(0.0, 138.56128015770724, 250.76166088685727);stroke-width:2\" />  </svg></g><g transform=\"translate(-12,0)\">  <svg x=\"91.26449805939428%\" y=\"40\" height=\"18\" overflow=\"visible\" width=\"30\">    <path d=\"M 8 -9 l -6 18 L 8 25\" fill=\"none\" style=\"stroke:rgb(0.0, 138.56128015770724, 250.76166088685727);stroke-width:2\" />  </svg></g><g transform=\"translate(-14,0)\">  <svg x=\"91.26449805939428%\" y=\"40\" height=\"18\" overflow=\"visible\" width=\"30\">    <path d=\"M 8 -9 l -6 18 L 8 25\" fill=\"none\" style=\"stroke:rgb(0.0, 138.56128015770724, 250.76166088685727);stroke-width:2\" />  </svg></g><g transform=\"translate(2,0)\">  <svg x=\"91.26449805939428%\" y=\"40\" height=\"18\" overflow=\"visible\" width=\"30\">    <path d=\"M 8 -9 l -6 18 L 8 25\" fill=\"none\" style=\"stroke:rgb(0.0, 138.56128015770724, 250.76166088685727);stroke-width:2\" />  </svg></g><g transform=\"translate(0,0)\">  <svg x=\"91.26449805939428%\" y=\"40\" height=\"18\" overflow=\"visible\" width=\"30\">    <path d=\"M 8 -9 l -6 18 L 8 25\" fill=\"none\" style=\"stroke:rgb(0.0, 138.56128015770724, 250.76166088685727);stroke-width:2\" />  </svg></g><g transform=\"translate(-2,0)\">  <svg x=\"91.26449805939428%\" y=\"40\" height=\"18\" overflow=\"visible\" width=\"30\">    <path d=\"M 8 -9 l -6 18 L 8 25\" fill=\"none\" style=\"stroke:rgb(0.0, 138.56128015770724, 250.76166088685727);stroke-width:2\" />  </svg></g><g transform=\"translate(-4,0)\">  <svg x=\"91.26449805939428%\" y=\"40\" height=\"18\" overflow=\"visible\" width=\"30\">    <path d=\"M 8 -9 l -6 18 L 8 25\" fill=\"none\" style=\"stroke:rgb(0.0, 138.56128015770724, 250.76166088685727);stroke-width:2\" />  </svg></g><g transform=\"translate(-8,0)\">  <svg x=\"91.53148023810773%\" y=\"40\" height=\"18\" overflow=\"visible\" width=\"30\">    <path d=\"M 8 -9 l -6 18 L 8 25\" fill=\"none\" style=\"stroke:rgb(0.0, 138.56128015770724, 250.76166088685727);stroke-width:2\" />  </svg></g><g transform=\"translate(-10,0)\">  <svg x=\"91.53148023810773%\" y=\"40\" height=\"18\" overflow=\"visible\" width=\"30\">    <path d=\"M 8 -9 l -6 18 L 8 25\" fill=\"none\" style=\"stroke:rgb(0.0, 138.56128015770724, 250.76166088685727);stroke-width:2\" />  </svg></g><g transform=\"translate(-12,0)\">  <svg x=\"91.53148023810773%\" y=\"40\" height=\"18\" overflow=\"visible\" width=\"30\">    <path d=\"M 8 -9 l -6 18 L 8 25\" fill=\"none\" style=\"stroke:rgb(0.0, 138.56128015770724, 250.76166088685727);stroke-width:2\" />  </svg></g><g transform=\"translate(-14,0)\">  <svg x=\"91.53148023810773%\" y=\"40\" height=\"18\" overflow=\"visible\" width=\"30\">    <path d=\"M 8 -9 l -6 18 L 8 25\" fill=\"none\" style=\"stroke:rgb(0.0, 138.56128015770724, 250.76166088685727);stroke-width:2\" />  </svg></g><g transform=\"translate(2,0)\">  <svg x=\"91.53148023810773%\" y=\"40\" height=\"18\" overflow=\"visible\" width=\"30\">    <path d=\"M 8 -9 l -6 18 L 8 25\" fill=\"none\" style=\"stroke:rgb(0.0, 138.56128015770724, 250.76166088685727);stroke-width:2\" />  </svg></g><g transform=\"translate(0,0)\">  <svg x=\"91.53148023810773%\" y=\"40\" height=\"18\" overflow=\"visible\" width=\"30\">    <path d=\"M 8 -9 l -6 18 L 8 25\" fill=\"none\" style=\"stroke:rgb(0.0, 138.56128015770724, 250.76166088685727);stroke-width:2\" />  </svg></g><g transform=\"translate(-2,0)\">  <svg x=\"91.53148023810773%\" y=\"40\" height=\"18\" overflow=\"visible\" width=\"30\">    <path d=\"M 8 -9 l -6 18 L 8 25\" fill=\"none\" style=\"stroke:rgb(0.0, 138.56128015770724, 250.76166088685727);stroke-width:2\" />  </svg></g><g transform=\"translate(-4,0)\">  <svg x=\"91.53148023810773%\" y=\"40\" height=\"18\" overflow=\"visible\" width=\"30\">    <path d=\"M 8 -9 l -6 18 L 8 25\" fill=\"none\" style=\"stroke:rgb(0.0, 138.56128015770724, 250.76166088685727);stroke-width:2\" />  </svg></g><rect transform=\"translate(0,0)\" x=\"69.35658680588769%\" y=\"40\" width=\"8\" height=\"18\" style=\"fill:rgb(0.0, 138.56128015770724, 250.76166088685727)\"/><g transform=\"translate(-6.0,0)\">  <svg x=\"91.66666666666667%\" y=\"40\" height=\"18\" overflow=\"visible\" width=\"30\">    <path d=\"M 8 -9 l -6 18 L 8 25 L 20 25 L 20 -9\" fill=\"#ffffff\" style=\"stroke:rgb(255,255,255);stroke-width:2\" />  </svg></g><g transform=\"translate(-6.0,0)\">  <svg x=\"74.74170780847575%\" y=\"40\" height=\"18\" overflow=\"visible\" width=\"30\">    <path d=\"M 8 -9 l -6 18 L 8 25\" fill=\"none\" style=\"stroke:rgb(208, 230, 250);stroke-width:2\" />  </svg></g><rect x=\"69.35658680588769%\" y=\"40\" height=\"20\" width=\"5.385121002588065%\"      onmouseover=\"document.getElementById('_tp_gtsgayxedjudptkiojbw_ind_9').style.textDecoration = 'underline';document.getElementById('_fs_gtsgayxedjudptkiojbw_ind_9').style.opacity = 1;document.getElementById('_fb_gtsgayxedjudptkiojbw_ind_9').style.opacity = 1;\"      onmouseout=\"document.getElementById('_tp_gtsgayxedjudptkiojbw_ind_9').style.textDecoration = 'none';document.getElementById('_fs_gtsgayxedjudptkiojbw_ind_9').style.opacity = 0;document.getElementById('_fb_gtsgayxedjudptkiojbw_ind_9').style.opacity = 0;\" style=\"fill:rgb(0,0,0,0)\" /><g transform=\"translate(-6.0,0)\">  <svg x=\"78.66477449454707%\" y=\"40\" height=\"18\" overflow=\"visible\" width=\"30\">    <path d=\"M 8 -9 l -6 18 L 8 25\" fill=\"none\" style=\"stroke:rgb(208, 230, 250);stroke-width:2\" />  </svg></g><rect x=\"74.74170780847575%\" y=\"40\" height=\"20\" width=\"3.923066686071323%\"      onmouseover=\"document.getElementById('_tp_gtsgayxedjudptkiojbw_ind_7').style.textDecoration = 'underline';document.getElementById('_fs_gtsgayxedjudptkiojbw_ind_7').style.opacity = 1;document.getElementById('_fb_gtsgayxedjudptkiojbw_ind_7').style.opacity = 1;\"      onmouseout=\"document.getElementById('_tp_gtsgayxedjudptkiojbw_ind_7').style.textDecoration = 'none';document.getElementById('_fs_gtsgayxedjudptkiojbw_ind_7').style.opacity = 0;document.getElementById('_fb_gtsgayxedjudptkiojbw_ind_7').style.opacity = 0;\" style=\"fill:rgb(0,0,0,0)\" /><g transform=\"translate(-6.0,0)\">  <svg x=\"82.48792936609723%\" y=\"40\" height=\"18\" overflow=\"visible\" width=\"30\">    <path d=\"M 8 -9 l -6 18 L 8 25\" fill=\"none\" style=\"stroke:rgb(208, 230, 250);stroke-width:2\" />  </svg></g><rect x=\"78.66477449454707%\" y=\"40\" height=\"20\" width=\"3.823154871550159%\"      onmouseover=\"document.getElementById('_tp_gtsgayxedjudptkiojbw_ind_19').style.textDecoration = 'underline';document.getElementById('_fs_gtsgayxedjudptkiojbw_ind_19').style.opacity = 1;document.getElementById('_fb_gtsgayxedjudptkiojbw_ind_19').style.opacity = 1;\"      onmouseout=\"document.getElementById('_tp_gtsgayxedjudptkiojbw_ind_19').style.textDecoration = 'none';document.getElementById('_fs_gtsgayxedjudptkiojbw_ind_19').style.opacity = 0;document.getElementById('_fb_gtsgayxedjudptkiojbw_ind_19').style.opacity = 0;\" style=\"fill:rgb(0,0,0,0)\" /><g transform=\"translate(-6.0,0)\">  <svg x=\"85.69561819688421%\" y=\"40\" height=\"18\" overflow=\"visible\" width=\"30\">    <path d=\"M 8 -9 l -6 18 L 8 25\" fill=\"none\" style=\"stroke:rgb(208, 230, 250);stroke-width:2\" />  </svg></g><rect x=\"82.48792936609723%\" y=\"40\" height=\"20\" width=\"3.207688830786978%\"      onmouseover=\"document.getElementById('_tp_gtsgayxedjudptkiojbw_ind_20').style.textDecoration = 'underline';document.getElementById('_fs_gtsgayxedjudptkiojbw_ind_20').style.opacity = 1;document.getElementById('_fb_gtsgayxedjudptkiojbw_ind_20').style.opacity = 1;\"      onmouseout=\"document.getElementById('_tp_gtsgayxedjudptkiojbw_ind_20').style.textDecoration = 'none';document.getElementById('_fs_gtsgayxedjudptkiojbw_ind_20').style.opacity = 0;document.getElementById('_fb_gtsgayxedjudptkiojbw_ind_20').style.opacity = 0;\" style=\"fill:rgb(0,0,0,0)\" /><g transform=\"translate(-6.0,0)\">  <svg x=\"87.530761698725%\" y=\"40\" height=\"18\" overflow=\"visible\" width=\"30\">    <path d=\"M 8 -9 l -6 18 L 8 25\" fill=\"none\" style=\"stroke:rgb(208, 230, 250);stroke-width:2\" />  </svg></g><rect x=\"85.69561819688421%\" y=\"40\" height=\"20\" width=\"1.8351435018407898%\"      onmouseover=\"document.getElementById('_tp_gtsgayxedjudptkiojbw_ind_22').style.textDecoration = 'underline';document.getElementById('_fs_gtsgayxedjudptkiojbw_ind_22').style.opacity = 1;document.getElementById('_fb_gtsgayxedjudptkiojbw_ind_22').style.opacity = 1;\"      onmouseout=\"document.getElementById('_tp_gtsgayxedjudptkiojbw_ind_22').style.textDecoration = 'none';document.getElementById('_fs_gtsgayxedjudptkiojbw_ind_22').style.opacity = 0;document.getElementById('_fb_gtsgayxedjudptkiojbw_ind_22').style.opacity = 0;\" style=\"fill:rgb(0,0,0,0)\" /><g transform=\"translate(-6.0,0)\">  <svg x=\"88.99006198450247%\" y=\"40\" height=\"18\" overflow=\"visible\" width=\"30\">    <path d=\"M 8 -9 l -6 18 L 8 25\" fill=\"none\" style=\"stroke:rgb(208, 230, 250);stroke-width:2\" />  </svg></g><rect x=\"87.530761698725%\" y=\"40\" height=\"20\" width=\"1.4593002857774735%\"      onmouseover=\"document.getElementById('_tp_gtsgayxedjudptkiojbw_ind_6').style.textDecoration = 'underline';document.getElementById('_fs_gtsgayxedjudptkiojbw_ind_6').style.opacity = 1;document.getElementById('_fb_gtsgayxedjudptkiojbw_ind_6').style.opacity = 1;\"      onmouseout=\"document.getElementById('_tp_gtsgayxedjudptkiojbw_ind_6').style.textDecoration = 'none';document.getElementById('_fs_gtsgayxedjudptkiojbw_ind_6').style.opacity = 0;document.getElementById('_fb_gtsgayxedjudptkiojbw_ind_6').style.opacity = 0;\" style=\"fill:rgb(0,0,0,0)\" /><g transform=\"translate(-6.0,0)\">  <svg x=\"90.32710892489098%\" y=\"40\" height=\"18\" overflow=\"visible\" width=\"30\">    <path d=\"M 8 -9 l -6 18 L 8 25\" fill=\"none\" style=\"stroke:rgb(208, 230, 250);stroke-width:2\" />  </svg></g><rect x=\"88.99006198450247%\" y=\"40\" height=\"20\" width=\"1.337046940388504%\"      onmouseover=\"document.getElementById('_tp_gtsgayxedjudptkiojbw_ind_4').style.textDecoration = 'underline';document.getElementById('_fs_gtsgayxedjudptkiojbw_ind_4').style.opacity = 1;document.getElementById('_fb_gtsgayxedjudptkiojbw_ind_4').style.opacity = 1;\"      onmouseout=\"document.getElementById('_tp_gtsgayxedjudptkiojbw_ind_4').style.textDecoration = 'none';document.getElementById('_fs_gtsgayxedjudptkiojbw_ind_4').style.opacity = 0;document.getElementById('_fb_gtsgayxedjudptkiojbw_ind_4').style.opacity = 0;\" style=\"fill:rgb(0,0,0,0)\" /><g transform=\"translate(-6.0,0)\">  <svg x=\"91.26449805939428%\" y=\"40\" height=\"18\" overflow=\"visible\" width=\"30\">    <path d=\"M 8 -9 l -6 18 L 8 25\" fill=\"none\" style=\"stroke:rgb(208, 230, 250);stroke-width:2\" />  </svg></g><rect x=\"90.32710892489098%\" y=\"40\" height=\"20\" width=\"0.9373891345033059%\"      onmouseover=\"document.getElementById('_tp_gtsgayxedjudptkiojbw_ind_18').style.textDecoration = 'underline';document.getElementById('_fs_gtsgayxedjudptkiojbw_ind_18').style.opacity = 1;document.getElementById('_fb_gtsgayxedjudptkiojbw_ind_18').style.opacity = 1;\"      onmouseout=\"document.getElementById('_tp_gtsgayxedjudptkiojbw_ind_18').style.textDecoration = 'none';document.getElementById('_fs_gtsgayxedjudptkiojbw_ind_18').style.opacity = 0;document.getElementById('_fb_gtsgayxedjudptkiojbw_ind_18').style.opacity = 0;\" style=\"fill:rgb(0,0,0,0)\" /><g transform=\"translate(-6.0,0)\">  <svg x=\"91.53148023810773%\" y=\"40\" height=\"18\" overflow=\"visible\" width=\"30\">    <path d=\"M 8 -9 l -6 18 L 8 25\" fill=\"none\" style=\"stroke:rgb(208, 230, 250);stroke-width:2\" />  </svg></g><rect x=\"91.26449805939428%\" y=\"40\" height=\"20\" width=\"0.2669821787134481%\"      onmouseover=\"document.getElementById('_tp_gtsgayxedjudptkiojbw_ind_13').style.textDecoration = 'underline';document.getElementById('_fs_gtsgayxedjudptkiojbw_ind_13').style.opacity = 1;document.getElementById('_fb_gtsgayxedjudptkiojbw_ind_13').style.opacity = 1;\"      onmouseout=\"document.getElementById('_tp_gtsgayxedjudptkiojbw_ind_13').style.textDecoration = 'none';document.getElementById('_fs_gtsgayxedjudptkiojbw_ind_13').style.opacity = 0;document.getElementById('_fb_gtsgayxedjudptkiojbw_ind_13').style.opacity = 0;\" style=\"fill:rgb(0,0,0,0)\" /><rect x=\"91.53148023810773%\" y=\"40\" height=\"20\" width=\"0.1351864285589386%\"      onmouseover=\"document.getElementById('_tp_gtsgayxedjudptkiojbw_ind_16').style.textDecoration = 'underline';document.getElementById('_fs_gtsgayxedjudptkiojbw_ind_16').style.opacity = 1;document.getElementById('_fb_gtsgayxedjudptkiojbw_ind_16').style.opacity = 1;\"      onmouseout=\"document.getElementById('_tp_gtsgayxedjudptkiojbw_ind_16').style.textDecoration = 'none';document.getElementById('_fs_gtsgayxedjudptkiojbw_ind_16').style.opacity = 0;document.getElementById('_fb_gtsgayxedjudptkiojbw_ind_16').style.opacity = 0;\" style=\"fill:rgb(0,0,0,0)\" /></svg><div style='display: inline; text-align: center;'><div style='display: none; color: #999; padding-top: 0px; font-size: 12px;'>0.096</div><div id='_tp_gtsgayxedjudptkiojbw_ind_0'style='display: inline; background: rgba(255.0, 13.0, 87.0, 0.46397306397306415); border-radius: 3px; padding: 0px'onclick=\"if (this.previousSibling.style.display == 'none') {this.previousSibling.style.display = 'block';this.parentNode.style.display = 'inline-block';} else {this.previousSibling.style.display = 'none';this.parentNode.style.display = 'inline';}\"onmouseover=\"document.getElementById('_fb_gtsgayxedjudptkiojbw_ind_0').style.opacity = 1; document.getElementById('_fs_gtsgayxedjudptkiojbw_ind_0').style.opacity = 1;\"onmouseout=\"document.getElementById('_fb_gtsgayxedjudptkiojbw_ind_0').style.opacity = 0; document.getElementById('_fs_gtsgayxedjudptkiojbw_ind_0').style.opacity = 0;\"> @</div></div><div style='display: inline; text-align: center;'><div style='display: none; color: #999; padding-top: 0px; font-size: 12px;'>0.075</div><div id='_tp_gtsgayxedjudptkiojbw_ind_1'style='display: inline; background: rgba(255.0, 13.0, 87.0, 0.36149732620320857); border-radius: 3px; padding: 0px'onclick=\"if (this.previousSibling.style.display == 'none') {this.previousSibling.style.display = 'block';this.parentNode.style.display = 'inline-block';} else {this.previousSibling.style.display = 'none';this.parentNode.style.display = 'inline';}\"onmouseover=\"document.getElementById('_fb_gtsgayxedjudptkiojbw_ind_1').style.opacity = 1; document.getElementById('_fs_gtsgayxedjudptkiojbw_ind_1').style.opacity = 1;\"onmouseout=\"document.getElementById('_fb_gtsgayxedjudptkiojbw_ind_1').style.opacity = 0; document.getElementById('_fs_gtsgayxedjudptkiojbw_ind_1').style.opacity = 0;\"> remy119</div></div><div style='display: inline; text-align: center;'><div style='display: none; color: #999; padding-top: 0px; font-size: 12px;'>0.113</div><div id='_tp_gtsgayxedjudptkiojbw_ind_2'style='display: inline; background: rgba(255.0, 13.0, 87.0, 0.55068330362448); border-radius: 3px; padding: 0px'onclick=\"if (this.previousSibling.style.display == 'none') {this.previousSibling.style.display = 'block';this.parentNode.style.display = 'inline-block';} else {this.previousSibling.style.display = 'none';this.parentNode.style.display = 'inline';}\"onmouseover=\"document.getElementById('_fb_gtsgayxedjudptkiojbw_ind_2').style.opacity = 1; document.getElementById('_fs_gtsgayxedjudptkiojbw_ind_2').style.opacity = 1;\"onmouseout=\"document.getElementById('_fb_gtsgayxedjudptkiojbw_ind_2').style.opacity = 0; document.getElementById('_fs_gtsgayxedjudptkiojbw_ind_2').style.opacity = 0;\"> israel</div></div><div style='display: inline; text-align: center;'><div style='display: none; color: #999; padding-top: 0px; font-size: 12px;'>0.043</div><div id='_tp_gtsgayxedjudptkiojbw_ind_3'style='display: inline; background: rgba(255.0, 13.0, 87.0, 0.20384234501881549); border-radius: 3px; padding: 0px'onclick=\"if (this.previousSibling.style.display == 'none') {this.previousSibling.style.display = 'block';this.parentNode.style.display = 'inline-block';} else {this.previousSibling.style.display = 'none';this.parentNode.style.display = 'inline';}\"onmouseover=\"document.getElementById('_fb_gtsgayxedjudptkiojbw_ind_3').style.opacity = 1; document.getElementById('_fs_gtsgayxedjudptkiojbw_ind_3').style.opacity = 1;\"onmouseout=\"document.getElementById('_fb_gtsgayxedjudptkiojbw_ind_3').style.opacity = 0; document.getElementById('_fs_gtsgayxedjudptkiojbw_ind_3').style.opacity = 0;\"> is</div></div><div style='display: inline; text-align: center;'><div style='display: none; color: #999; padding-top: 0px; font-size: 12px;'>-0.021</div><div id='_tp_gtsgayxedjudptkiojbw_ind_4'style='display: inline; background: rgba(30.0, 136.0, 229.0, 0.10136660724896014); border-radius: 3px; padding: 0px'onclick=\"if (this.previousSibling.style.display == 'none') {this.previousSibling.style.display = 'block';this.parentNode.style.display = 'inline-block';} else {this.previousSibling.style.display = 'none';this.parentNode.style.display = 'inline';}\"onmouseover=\"document.getElementById('_fb_gtsgayxedjudptkiojbw_ind_4').style.opacity = 1; document.getElementById('_fs_gtsgayxedjudptkiojbw_ind_4').style.opacity = 1;\"onmouseout=\"document.getElementById('_fb_gtsgayxedjudptkiojbw_ind_4').style.opacity = 0; document.getElementById('_fs_gtsgayxedjudptkiojbw_ind_4').style.opacity = 0;\"> only</div></div><div style='display: inline; text-align: center;'><div style='display: none; color: #999; padding-top: 0px; font-size: 12px;'>0.041</div><div id='_tp_gtsgayxedjudptkiojbw_ind_5'style='display: inline; background: rgba(255.0, 13.0, 87.0, 0.1959595959595959); border-radius: 3px; padding: 0px'onclick=\"if (this.previousSibling.style.display == 'none') {this.previousSibling.style.display = 'block';this.parentNode.style.display = 'inline-block';} else {this.previousSibling.style.display = 'none';this.parentNode.style.display = 'inline';}\"onmouseover=\"document.getElementById('_fb_gtsgayxedjudptkiojbw_ind_5').style.opacity = 1; document.getElementById('_fs_gtsgayxedjudptkiojbw_ind_5').style.opacity = 1;\"onmouseout=\"document.getElementById('_fb_gtsgayxedjudptkiojbw_ind_5').style.opacity = 0; document.getElementById('_fs_gtsgayxedjudptkiojbw_ind_5').style.opacity = 0;\"> trying</div></div><div style='display: inline; text-align: center;'><div style='display: none; color: #999; padding-top: 0px; font-size: 12px;'>-0.023</div><div id='_tp_gtsgayxedjudptkiojbw_ind_6'style='display: inline; background: rgba(30.0, 136.0, 229.0, 0.10924935630817977); border-radius: 3px; padding: 0px'onclick=\"if (this.previousSibling.style.display == 'none') {this.previousSibling.style.display = 'block';this.parentNode.style.display = 'inline-block';} else {this.previousSibling.style.display = 'none';this.parentNode.style.display = 'inline';}\"onmouseover=\"document.getElementById('_fb_gtsgayxedjudptkiojbw_ind_6').style.opacity = 1; document.getElementById('_fs_gtsgayxedjudptkiojbw_ind_6').style.opacity = 1;\"onmouseout=\"document.getElementById('_fb_gtsgayxedjudptkiojbw_ind_6').style.opacity = 0; document.getElementById('_fs_gtsgayxedjudptkiojbw_ind_6').style.opacity = 0;\"> to</div></div><div style='display: inline; text-align: center;'><div style='display: none; color: #999; padding-top: 0px; font-size: 12px;'>-0.062</div><div id='_tp_gtsgayxedjudptkiojbw_ind_7'style='display: inline; background: rgba(30.0, 136.0, 229.0, 0.2984353337294513); border-radius: 3px; padding: 0px'onclick=\"if (this.previousSibling.style.display == 'none') {this.previousSibling.style.display = 'block';this.parentNode.style.display = 'inline-block';} else {this.previousSibling.style.display = 'none';this.parentNode.style.display = 'inline';}\"onmouseover=\"document.getElementById('_fb_gtsgayxedjudptkiojbw_ind_7').style.opacity = 1; document.getElementById('_fs_gtsgayxedjudptkiojbw_ind_7').style.opacity = 1;\"onmouseout=\"document.getElementById('_fb_gtsgayxedjudptkiojbw_ind_7').style.opacity = 0; document.getElementById('_fs_gtsgayxedjudptkiojbw_ind_7').style.opacity = 0;\"> defend</div></div><div style='display: inline; text-align: center;'><div style='display: none; color: #999; padding-top: 0px; font-size: 12px;'>0.078</div><div id='_tp_gtsgayxedjudptkiojbw_ind_8'style='display: inline; background: rgba(255.0, 13.0, 87.0, 0.3772628243216479); border-radius: 3px; padding: 0px'onclick=\"if (this.previousSibling.style.display == 'none') {this.previousSibling.style.display = 'block';this.parentNode.style.display = 'inline-block';} else {this.previousSibling.style.display = 'none';this.parentNode.style.display = 'inline';}\"onmouseover=\"document.getElementById('_fb_gtsgayxedjudptkiojbw_ind_8').style.opacity = 1; document.getElementById('_fs_gtsgayxedjudptkiojbw_ind_8').style.opacity = 1;\"onmouseout=\"document.getElementById('_fb_gtsgayxedjudptkiojbw_ind_8').style.opacity = 0; document.getElementById('_fs_gtsgayxedjudptkiojbw_ind_8').style.opacity = 0;\"> itself</div></div><div style='display: inline; text-align: center;'><div style='display: none; color: #999; padding-top: 0px; font-size: 12px;'>-0.086</div><div id='_tp_gtsgayxedjudptkiojbw_ind_9'style='display: inline; background: rgba(30.0, 136.0, 229.0, 0.41667656961774613); border-radius: 3px; padding: 0px'onclick=\"if (this.previousSibling.style.display == 'none') {this.previousSibling.style.display = 'block';this.parentNode.style.display = 'inline-block';} else {this.previousSibling.style.display = 'none';this.parentNode.style.display = 'inline';}\"onmouseover=\"document.getElementById('_fb_gtsgayxedjudptkiojbw_ind_9').style.opacity = 1; document.getElementById('_fs_gtsgayxedjudptkiojbw_ind_9').style.opacity = 1;\"onmouseout=\"document.getElementById('_fb_gtsgayxedjudptkiojbw_ind_9').style.opacity = 0; document.getElementById('_fs_gtsgayxedjudptkiojbw_ind_9').style.opacity = 0;\"> against</div></div><div style='display: inline; text-align: center;'><div style='display: none; color: #999; padding-top: 0px; font-size: 12px;'>0.212</div><div id='_tp_gtsgayxedjudptkiojbw_ind_10'style='display: inline; background: rgba(255.0, 13.0, 87.0, 1.0); border-radius: 3px; padding: 0px'onclick=\"if (this.previousSibling.style.display == 'none') {this.previousSibling.style.display = 'block';this.parentNode.style.display = 'inline-block';} else {this.previousSibling.style.display = 'none';this.parentNode.style.display = 'inline';}\"onmouseover=\"document.getElementById('_fb_gtsgayxedjudptkiojbw_ind_10').style.opacity = 1; document.getElementById('_fs_gtsgayxedjudptkiojbw_ind_10').style.opacity = 1;\"onmouseout=\"document.getElementById('_fb_gtsgayxedjudptkiojbw_ind_10').style.opacity = 0; document.getElementById('_fs_gtsgayxedjudptkiojbw_ind_10').style.opacity = 0;\"> murderous</div></div><div style='display: inline; text-align: center;'><div style='display: none; color: #999; padding-top: 0px; font-size: 12px;'>0.09</div><div id='_tp_gtsgayxedjudptkiojbw_ind_11'style='display: inline; background: rgba(255.0, 13.0, 87.0, 0.44032481679540497); border-radius: 3px; padding: 0px'onclick=\"if (this.previousSibling.style.display == 'none') {this.previousSibling.style.display = 'block';this.parentNode.style.display = 'inline-block';} else {this.previousSibling.style.display = 'none';this.parentNode.style.display = 'inline';}\"onmouseover=\"document.getElementById('_fb_gtsgayxedjudptkiojbw_ind_11').style.opacity = 1; document.getElementById('_fs_gtsgayxedjudptkiojbw_ind_11').style.opacity = 1;\"onmouseout=\"document.getElementById('_fb_gtsgayxedjudptkiojbw_ind_11').style.opacity = 0; document.getElementById('_fs_gtsgayxedjudptkiojbw_ind_11').style.opacity = 0;\"> muslims</div></div><div style='display: inline; text-align: center;'><div style='display: none; color: #999; padding-top: 0px; font-size: 12px;'>0.012</div><div id='_tp_gtsgayxedjudptkiojbw_ind_12'style='display: inline; background: rgba(255.0, 13.0, 87.0, 0.05407011289364243); border-radius: 3px; padding: 0px'onclick=\"if (this.previousSibling.style.display == 'none') {this.previousSibling.style.display = 'block';this.parentNode.style.display = 'inline-block';} else {this.previousSibling.style.display = 'none';this.parentNode.style.display = 'inline';}\"onmouseover=\"document.getElementById('_fb_gtsgayxedjudptkiojbw_ind_12').style.opacity = 1; document.getElementById('_fs_gtsgayxedjudptkiojbw_ind_12').style.opacity = 1;\"onmouseout=\"document.getElementById('_fb_gtsgayxedjudptkiojbw_ind_12').style.opacity = 0; document.getElementById('_fs_gtsgayxedjudptkiojbw_ind_12').style.opacity = 0;\"> trying</div></div><div style='display: inline; text-align: center;'><div style='display: none; color: #999; padding-top: 0px; font-size: 12px;'>-0.004</div><div id='_tp_gtsgayxedjudptkiojbw_ind_13'style='display: inline; background: rgba(30.0, 136.0, 229.0, 0.014656367597544028); border-radius: 3px; padding: 0px'onclick=\"if (this.previousSibling.style.display == 'none') {this.previousSibling.style.display = 'block';this.parentNode.style.display = 'inline-block';} else {this.previousSibling.style.display = 'none';this.parentNode.style.display = 'inline';}\"onmouseover=\"document.getElementById('_fb_gtsgayxedjudptkiojbw_ind_13').style.opacity = 1; document.getElementById('_fs_gtsgayxedjudptkiojbw_ind_13').style.opacity = 1;\"onmouseout=\"document.getElementById('_fb_gtsgayxedjudptkiojbw_ind_13').style.opacity = 0; document.getElementById('_fs_gtsgayxedjudptkiojbw_ind_13').style.opacity = 0;\"> to</div></div><div style='display: inline; text-align: center;'><div style='display: none; color: #999; padding-top: 0px; font-size: 12px;'>0.037</div><div id='_tp_gtsgayxedjudptkiojbw_ind_14'style='display: inline; background: rgba(255.0, 13.0, 87.0, 0.18019409784115661); border-radius: 3px; padding: 0px'onclick=\"if (this.previousSibling.style.display == 'none') {this.previousSibling.style.display = 'block';this.parentNode.style.display = 'inline-block';} else {this.previousSibling.style.display = 'none';this.parentNode.style.display = 'inline';}\"onmouseover=\"document.getElementById('_fb_gtsgayxedjudptkiojbw_ind_14').style.opacity = 1; document.getElementById('_fs_gtsgayxedjudptkiojbw_ind_14').style.opacity = 1;\"onmouseout=\"document.getElementById('_fb_gtsgayxedjudptkiojbw_ind_14').style.opacity = 0; document.getElementById('_fs_gtsgayxedjudptkiojbw_ind_14').style.opacity = 0;\"> wipe</div></div><div style='display: inline; text-align: center;'><div style='display: none; color: #999; padding-top: 0px; font-size: 12px;'>0.008</div><div id='_tp_gtsgayxedjudptkiojbw_ind_15'style='display: inline; background: rgba(255.0, 13.0, 87.0, 0.030421865715983164); border-radius: 3px; padding: 0px'onclick=\"if (this.previousSibling.style.display == 'none') {this.previousSibling.style.display = 'block';this.parentNode.style.display = 'inline-block';} else {this.previousSibling.style.display = 'none';this.parentNode.style.display = 'inline';}\"onmouseover=\"document.getElementById('_fb_gtsgayxedjudptkiojbw_ind_15').style.opacity = 1; document.getElementById('_fs_gtsgayxedjudptkiojbw_ind_15').style.opacity = 1;\"onmouseout=\"document.getElementById('_fb_gtsgayxedjudptkiojbw_ind_15').style.opacity = 0; document.getElementById('_fs_gtsgayxedjudptkiojbw_ind_15').style.opacity = 0;\"> it</div></div><div style='display: inline; text-align: center;'><div style='display: none; color: #999; padding-top: 0px; font-size: 12px;'>-0.002</div><div id='_tp_gtsgayxedjudptkiojbw_ind_16'style='display: inline; background: rgba(30.0, 136.0, 229.0, 0.006773618538324436); border-radius: 3px; padding: 0px'onclick=\"if (this.previousSibling.style.display == 'none') {this.previousSibling.style.display = 'block';this.parentNode.style.display = 'inline-block';} else {this.previousSibling.style.display = 'none';this.parentNode.style.display = 'inline';}\"onmouseover=\"document.getElementById('_fb_gtsgayxedjudptkiojbw_ind_16').style.opacity = 1; document.getElementById('_fs_gtsgayxedjudptkiojbw_ind_16').style.opacity = 1;\"onmouseout=\"document.getElementById('_fb_gtsgayxedjudptkiojbw_ind_16').style.opacity = 0; document.getElementById('_fs_gtsgayxedjudptkiojbw_ind_16').style.opacity = 0;\"> out</div></div><div style='display: inline; text-align: center;'><div style='display: none; color: #999; padding-top: 0px; font-size: 12px;'>0.005</div><div id='_tp_gtsgayxedjudptkiojbw_ind_17'style='display: inline; background: rgba(255.0, 13.0, 87.0, 0.02253911665676371); border-radius: 3px; padding: 0px'onclick=\"if (this.previousSibling.style.display == 'none') {this.previousSibling.style.display = 'block';this.parentNode.style.display = 'inline-block';} else {this.previousSibling.style.display = 'none';this.parentNode.style.display = 'inline';}\"onmouseover=\"document.getElementById('_fb_gtsgayxedjudptkiojbw_ind_17').style.opacity = 1; document.getElementById('_fs_gtsgayxedjudptkiojbw_ind_17').style.opacity = 1;\"onmouseout=\"document.getElementById('_fb_gtsgayxedjudptkiojbw_ind_17').style.opacity = 0; document.getElementById('_fs_gtsgayxedjudptkiojbw_ind_17').style.opacity = 0;\"> .</div></div><div style='display: inline; text-align: center;'><div style='display: none; color: #999; padding-top: 0px; font-size: 12px;'>-0.015</div><div id='_tp_gtsgayxedjudptkiojbw_ind_18'style='display: inline; background: rgba(30.0, 136.0, 229.0, 0.06983561101208147); border-radius: 3px; padding: 0px'onclick=\"if (this.previousSibling.style.display == 'none') {this.previousSibling.style.display = 'block';this.parentNode.style.display = 'inline-block';} else {this.previousSibling.style.display = 'none';this.parentNode.style.display = 'inline';}\"onmouseover=\"document.getElementById('_fb_gtsgayxedjudptkiojbw_ind_18').style.opacity = 1; document.getElementById('_fs_gtsgayxedjudptkiojbw_ind_18').style.opacity = 1;\"onmouseout=\"document.getElementById('_fb_gtsgayxedjudptkiojbw_ind_18').style.opacity = 0; document.getElementById('_fs_gtsgayxedjudptkiojbw_ind_18').style.opacity = 0;\"> un</div></div><div style='display: inline; text-align: center;'><div style='display: none; color: #999; padding-top: 0px; font-size: 12px;'>-0.061</div><div id='_tp_gtsgayxedjudptkiojbw_ind_19'style='display: inline; background: rgba(30.0, 136.0, 229.0, 0.29055258467023176); border-radius: 3px; padding: 0px'onclick=\"if (this.previousSibling.style.display == 'none') {this.previousSibling.style.display = 'block';this.parentNode.style.display = 'inline-block';} else {this.previousSibling.style.display = 'none';this.parentNode.style.display = 'inline';}\"onmouseover=\"document.getElementById('_fb_gtsgayxedjudptkiojbw_ind_19').style.opacity = 1; document.getElementById('_fs_gtsgayxedjudptkiojbw_ind_19').style.opacity = 1;\"onmouseout=\"document.getElementById('_fb_gtsgayxedjudptkiojbw_ind_19').style.opacity = 0; document.getElementById('_fs_gtsgayxedjudptkiojbw_ind_19').style.opacity = 0;\"> votes</div></div><div style='display: inline; text-align: center;'><div style='display: none; color: #999; padding-top: 0px; font-size: 12px;'>-0.051</div><div id='_tp_gtsgayxedjudptkiojbw_ind_20'style='display: inline; background: rgba(30.0, 136.0, 229.0, 0.2432560903149138); border-radius: 3px; padding: 0px'onclick=\"if (this.previousSibling.style.display == 'none') {this.previousSibling.style.display = 'block';this.parentNode.style.display = 'inline-block';} else {this.previousSibling.style.display = 'none';this.parentNode.style.display = 'inline';}\"onmouseover=\"document.getElementById('_fb_gtsgayxedjudptkiojbw_ind_20').style.opacity = 1; document.getElementById('_fs_gtsgayxedjudptkiojbw_ind_20').style.opacity = 1;\"onmouseout=\"document.getElementById('_fb_gtsgayxedjudptkiojbw_ind_20').style.opacity = 0; document.getElementById('_fs_gtsgayxedjudptkiojbw_ind_20').style.opacity = 0;\"> by</div></div><div style='display: inline; text-align: center;'><div style='display: none; color: #999; padding-top: 0px; font-size: 12px;'>0.041</div><div id='_tp_gtsgayxedjudptkiojbw_ind_21'style='display: inline; background: rgba(255.0, 13.0, 87.0, 0.1959595959595959); border-radius: 3px; padding: 0px'onclick=\"if (this.previousSibling.style.display == 'none') {this.previousSibling.style.display = 'block';this.parentNode.style.display = 'inline-block';} else {this.previousSibling.style.display = 'none';this.parentNode.style.display = 'inline';}\"onmouseover=\"document.getElementById('_fb_gtsgayxedjudptkiojbw_ind_21').style.opacity = 1; document.getElementById('_fs_gtsgayxedjudptkiojbw_ind_21').style.opacity = 1;\"onmouseout=\"document.getElementById('_fb_gtsgayxedjudptkiojbw_ind_21').style.opacity = 0; document.getElementById('_fs_gtsgayxedjudptkiojbw_ind_21').style.opacity = 0;\"> muslim</div></div><div style='display: inline; text-align: center;'><div style='display: none; color: #999; padding-top: 0px; font-size: 12px;'>-0.029</div><div id='_tp_gtsgayxedjudptkiojbw_ind_22'style='display: inline; background: rgba(30.0, 136.0, 229.0, 0.14078035254505836); border-radius: 3px; padding: 0px'onclick=\"if (this.previousSibling.style.display == 'none') {this.previousSibling.style.display = 'block';this.parentNode.style.display = 'inline-block';} else {this.previousSibling.style.display = 'none';this.parentNode.style.display = 'inline';}\"onmouseover=\"document.getElementById('_fb_gtsgayxedjudptkiojbw_ind_22').style.opacity = 1; document.getElementById('_fs_gtsgayxedjudptkiojbw_ind_22').style.opacity = 1;\"onmouseout=\"document.getElementById('_fb_gtsgayxedjudptkiojbw_ind_22').style.opacity = 0; document.getElementById('_fs_gtsgayxedjudptkiojbw_ind_22').style.opacity = 0;\"> nations</div></div><div style='display: inline; text-align: center;'><div style='display: none; color: #999; padding-top: 0px; font-size: 12px;'>0.07</div><div id='_tp_gtsgayxedjudptkiojbw_ind_23'style='display: inline; background: rgba(255.0, 13.0, 87.0, 0.33784907902554967); border-radius: 3px; padding: 0px'onclick=\"if (this.previousSibling.style.display == 'none') {this.previousSibling.style.display = 'block';this.parentNode.style.display = 'inline-block';} else {this.previousSibling.style.display = 'none';this.parentNode.style.display = 'inline';}\"onmouseover=\"document.getElementById('_fb_gtsgayxedjudptkiojbw_ind_23').style.opacity = 1; document.getElementById('_fs_gtsgayxedjudptkiojbw_ind_23').style.opacity = 1;\"onmouseout=\"document.getElementById('_fb_gtsgayxedjudptkiojbw_ind_23').style.opacity = 0; document.getElementById('_fs_gtsgayxedjudptkiojbw_ind_23').style.opacity = 0;\"> mean</div></div><div style='display: inline; text-align: center;'><div style='display: none; color: #999; padding-top: 0px; font-size: 12px;'>0.029</div><div id='_tp_gtsgayxedjudptkiojbw_ind_24'style='display: inline; background: rgba(255.0, 13.0, 87.0, 0.14078035254505847); border-radius: 3px; padding: 0px'onclick=\"if (this.previousSibling.style.display == 'none') {this.previousSibling.style.display = 'block';this.parentNode.style.display = 'inline-block';} else {this.previousSibling.style.display = 'none';this.parentNode.style.display = 'inline';}\"onmouseover=\"document.getElementById('_fb_gtsgayxedjudptkiojbw_ind_24').style.opacity = 1; document.getElementById('_fs_gtsgayxedjudptkiojbw_ind_24').style.opacity = 1;\"onmouseout=\"document.getElementById('_fb_gtsgayxedjudptkiojbw_ind_24').style.opacity = 0; document.getElementById('_fs_gtsgayxedjudptkiojbw_ind_24').style.opacity = 0;\"> nothing</div></div><div style='display: inline; text-align: center;'><div style='display: none; color: #999; padding-top: 0px; font-size: 12px;'>0.019</div><div id='_tp_gtsgayxedjudptkiojbw_ind_25'style='display: inline; background: rgba(255.0, 13.0, 87.0, 0.08560110913052081); border-radius: 3px; padding: 0px'onclick=\"if (this.previousSibling.style.display == 'none') {this.previousSibling.style.display = 'block';this.parentNode.style.display = 'inline-block';} else {this.previousSibling.style.display = 'none';this.parentNode.style.display = 'inline';}\"onmouseover=\"document.getElementById('_fb_gtsgayxedjudptkiojbw_ind_25').style.opacity = 1; document.getElementById('_fs_gtsgayxedjudptkiojbw_ind_25').style.opacity = 1;\"onmouseout=\"document.getElementById('_fb_gtsgayxedjudptkiojbw_ind_25').style.opacity = 0; document.getElementById('_fs_gtsgayxedjudptkiojbw_ind_25').style.opacity = 0;\"> .</div></div>"
      ],
      "text/plain": [
       "<IPython.core.display.HTML object>"
      ]
     },
     "metadata": {},
     "output_type": "display_data"
    }
   ],
   "source": [
    "model_explainer.visualize_text_plot(shapley_values[predicted_class],input_ids)"
   ]
  },
  {
   "cell_type": "code",
   "execution_count": 35,
   "metadata": {},
   "outputs": [],
   "source": [
    "community_dictionary = torch.load('../../data/waseem/community_dictionary_user_Waseem.pt')"
   ]
  },
  {
   "cell_type": "code",
   "execution_count": 40,
   "metadata": {},
   "outputs": [
    {
     "data": {
      "text/plain": [
       "False"
      ]
     },
     "execution_count": 40,
     "metadata": {},
     "output_type": "execute_result"
    }
   ],
   "source": [
    "community_dictionary[\"2941145694\"]['communities'] !=[]"
   ]
  },
  {
   "cell_type": "code",
   "execution_count": 36,
   "metadata": {},
   "outputs": [
    {
     "data": {
      "text/plain": [
       "tensor([2941145694])"
      ]
     },
     "execution_count": 36,
     "metadata": {},
     "output_type": "execute_result"
    }
   ],
   "source": [
    "user_id"
   ]
  },
  {
   "cell_type": "code",
   "execution_count": null,
   "metadata": {},
   "outputs": [],
   "source": []
  },
  {
   "cell_type": "markdown",
   "metadata": {},
   "source": [
    "# Code for computing the impact of each component"
   ]
  },
  {
   "cell_type": "code",
   "execution_count": 6,
   "metadata": {},
   "outputs": [],
   "source": [
    "from SHAP.shap import ShapExplainer"
   ]
  },
  {
   "cell_type": "code",
   "execution_count": 31,
   "metadata": {},
   "outputs": [],
   "source": [
    "# Shapley configuration\n",
    "tweet_as_one = True\n",
    "vocab_as_one=True\n",
    "network_as_one = False\n",
    "untokenize = True\n",
    "dataset = 'waseem'\n",
    "\n",
    "tokenizer_d = transformers.DistilBertTokenizer.from_pretrained('distilbert-base-uncased')"
   ]
  },
  {
   "cell_type": "code",
   "execution_count": 32,
   "metadata": {},
   "outputs": [],
   "source": [
    "model_explainer = ShapExplainer(joint_model, tweet_as_one = tweet_as_one, vocab_as_one=vocab_as_one, network_as_one = network_as_one, dataset = dataset, untokenize = untokenize)\n"
   ]
  },
  {
   "cell_type": "code",
   "execution_count": 38,
   "metadata": {},
   "outputs": [
    {
     "name": "stdout",
     "output_type": "stream",
     "text": [
      "{'input_ids': tensor([[  101, 10645,  2003, 18101,  3892,  1012,  2298,  2041,  1010,  2016,\n",
      "          1005,  1055,  1037,  7143,  2450,   999,  1001, 12395,  2099,  1001,\n",
      "         12395,  2099, 11387, 16068,   102,     0,     0,     0,     0,     0,\n",
      "             0,     0,     0,     0,     0,     0,     0,     0,     0,     0,\n",
      "             0,     0,     0,     0,     0,     0,     0,     0,     0,     0,\n",
      "             0,     0,     0,     0,     0,     0,     0,     0,     0,     0,\n",
      "             0,     0]]), 'attention_mask': tensor([[1, 1, 1, 1, 1, 1, 1, 1, 1, 1, 1, 1, 1, 1, 1, 1, 1, 1, 1, 1, 1, 1, 1, 1,\n",
      "         1, 0, 0, 0, 0, 0, 0, 0, 0, 0, 0, 0, 0, 0, 0, 0, 0, 0, 0, 0, 0, 0, 0, 0,\n",
      "         0, 0, 0, 0, 0, 0, 0, 0, 0, 0, 0, 0, 0, 0]]), 'label': tensor([0]), 'userid': tensor([39015714])}\n",
      "kat is ruthless tonight . look out , she ' s a desperate woman ! # mkr # mkr2015\n"
     ]
    },
    {
     "name": "stderr",
     "output_type": "stream",
     "text": [
      "Implicit dimension choice for softmax has been deprecated. Change the call to include dim=X as an argument.\n"
     ]
    }
   ],
   "source": [
    "test_y_pred, test_y_true = [],[]\n",
    "shap_output = []\n",
    "for i, data in enumerate(testloader):\n",
    "    if i != 470:\n",
    "        continue\n",
    "    print (data)\n",
    "    joint_model.eval()\n",
    "    input_ids, attention_mask, user_id, tweet_label = data['input_ids'], data['attention_mask'], data['userid'], data['label'] #TODO fix this mess\n",
    "    input_ids, attention_mask, tweet_label = input_ids.to(device),  attention_mask.to(device), tweet_label.to(device)\n",
    "    test_predictions = joint_model(input_ids,attention_mask, user_id)\n",
    "    test_predictions = torch.nn.functional.softmax(test_predictions)\n",
    "    test_max_pred = torch.argmax(test_predictions)\n",
    "    shapley_values, predicted_class, feature_distribution, vocab_indices = model_explainer.approximate_shap_values(input_ids, attention_mask, user_id)\n",
    "    res = tokenizer_d.convert_ids_to_tokens(input_ids[0], skip_special_tokens = True)\n",
    "    res = tokenizer_d.convert_tokens_to_string(res)\n",
    "    tweet_hate = shapley_values[0,0].item()\n",
    "    tweet_offen = shapley_values[1,0].item()\n",
    "    tweet_none = shapley_values[2,0].item()\n",
    "    vocab_hate = shapley_values[0,1].item()\n",
    "    vocab_offen = shapley_values[1,1].item()\n",
    "    vocab_none = shapley_values[2,1].item()\n",
    "    network_hate = shapley_values[0,2].item()\n",
    "    network_offen = shapley_values[1,2].item()\n",
    "    network_none = shapley_values[2,2].item()\n",
    "    tokenizer = transformers.DistilBertTokenizer.from_pretrained('distilbert-base-uncased')\n",
    "    res = tokenizer.convert_ids_to_tokens(input_ids[0], skip_special_tokens = True)\n",
    "\n",
    "    res = tokenizer.convert_tokens_to_string(res)\n",
    "    print(res)\n",
    "    tweet_hate,tweet_offen,tweet_none,vocab_hate,vocab_offen,vocab_none,network_hate,network_offen,network_none\n",
    "    \n",
    "    shap_output.append([i,user_id.item(),shapley_values,test_max_pred])\n",
    "    #model_explainer.visualize_text_plot(shap_values=shapley_values, input_ids=input_ids)\n",
    "    \n",
    "    if i % 250 == 0:\n",
    "        print(i)"
   ]
  },
  {
   "cell_type": "code",
   "execution_count": 35,
   "outputs": [
    {
     "name": "stdout",
     "output_type": "stream",
     "text": [
      "{210: {'group': 0, 'direct_relation': 2, 'value': 293, 'label': '210, 2/2', 'color': '#fe004d'}, 1: {'group': 1, 'direct_relation': 1, 'value': 368, 'label': '1, 1/1', 'color': '#fe004d'}}\n"
     ]
    }
   ],
   "source": [
    "#[i,user_id.item(),shapley_values, res, test_max_pred]]\n",
    "model_explainer.plot_network(shap_output)"
   ],
   "metadata": {
    "collapsed": false,
    "pycharm": {
     "name": "#%%\n"
    }
   }
  },
  {
   "cell_type": "code",
   "execution_count": 15,
   "metadata": {},
   "outputs": [],
   "source": [
    "import pandas as pd\n",
    "pd.DataFrame(shap_output).to_excel('Feature_Impact_Data_Waseem.xls')"
   ]
  },
  {
   "cell_type": "code",
   "execution_count": null,
   "metadata": {},
   "outputs": [],
   "source": []
  }
 ],
 "metadata": {
  "kernelspec": {
   "display_name": "Python 3",
   "language": "python",
   "name": "python3"
  },
  "language_info": {
   "codemirror_mode": {
    "name": "ipython",
    "version": 3
   },
   "file_extension": ".py",
   "mimetype": "text/x-python",
   "name": "python",
   "nbconvert_exporter": "python",
   "pygments_lexer": "ipython3",
   "version": "3.8.6"
  }
 },
 "nbformat": 4,
 "nbformat_minor": 1
}